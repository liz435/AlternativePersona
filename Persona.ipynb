{
  "nbformat": 4,
  "nbformat_minor": 0,
  "metadata": {
    "colab": {
      "provenance": [],
      "toc_visible": true,
      "mount_file_id": "1fYu1oOL1MNQ1DTCzo3_0xJZQYLAkF3YD",
      "authorship_tag": "ABX9TyOS9TuZ0M6xgdqLL0SEVttl",
      "include_colab_link": true
    },
    "kernelspec": {
      "name": "python3",
      "display_name": "Python 3"
    },
    "language_info": {
      "name": "python"
    },
    "widgets": {
      "application/vnd.jupyter.widget-state+json": {
        "93ecdd0077e54002a29e244845cddd81": {
          "model_module": "@jupyter-widgets/controls",
          "model_name": "HBoxModel",
          "model_module_version": "1.5.0",
          "state": {
            "_dom_classes": [],
            "_model_module": "@jupyter-widgets/controls",
            "_model_module_version": "1.5.0",
            "_model_name": "HBoxModel",
            "_view_count": null,
            "_view_module": "@jupyter-widgets/controls",
            "_view_module_version": "1.5.0",
            "_view_name": "HBoxView",
            "box_style": "",
            "children": [
              "IPY_MODEL_21b9a0401aef4f3388a18bfdd841f5ca",
              "IPY_MODEL_92daa253c6c94549b6612fa4c331c628",
              "IPY_MODEL_b89be325d94a4e4db89d9be0795dae15"
            ],
            "layout": "IPY_MODEL_fa1c00771f574204adf783e806b86bfe"
          }
        },
        "21b9a0401aef4f3388a18bfdd841f5ca": {
          "model_module": "@jupyter-widgets/controls",
          "model_name": "HTMLModel",
          "model_module_version": "1.5.0",
          "state": {
            "_dom_classes": [],
            "_model_module": "@jupyter-widgets/controls",
            "_model_module_version": "1.5.0",
            "_model_name": "HTMLModel",
            "_view_count": null,
            "_view_module": "@jupyter-widgets/controls",
            "_view_module_version": "1.5.0",
            "_view_name": "HTMLView",
            "description": "",
            "description_tooltip": null,
            "layout": "IPY_MODEL_0de17459c11c4a2b84976db5ef417daf",
            "placeholder": "​",
            "style": "IPY_MODEL_17b4eedb7ecf42e69ef5fda36cd74f97",
            "value": "Downloading (…)lve/main/config.json: 100%"
          }
        },
        "92daa253c6c94549b6612fa4c331c628": {
          "model_module": "@jupyter-widgets/controls",
          "model_name": "FloatProgressModel",
          "model_module_version": "1.5.0",
          "state": {
            "_dom_classes": [],
            "_model_module": "@jupyter-widgets/controls",
            "_model_module_version": "1.5.0",
            "_model_name": "FloatProgressModel",
            "_view_count": null,
            "_view_module": "@jupyter-widgets/controls",
            "_view_module_version": "1.5.0",
            "_view_name": "ProgressView",
            "bar_style": "success",
            "description": "",
            "description_tooltip": null,
            "layout": "IPY_MODEL_86ccc7475afa416aa33f3a0d3d0fd624",
            "max": 629,
            "min": 0,
            "orientation": "horizontal",
            "style": "IPY_MODEL_32f34ce2142a4529a9effdee4838922c",
            "value": 629
          }
        },
        "b89be325d94a4e4db89d9be0795dae15": {
          "model_module": "@jupyter-widgets/controls",
          "model_name": "HTMLModel",
          "model_module_version": "1.5.0",
          "state": {
            "_dom_classes": [],
            "_model_module": "@jupyter-widgets/controls",
            "_model_module_version": "1.5.0",
            "_model_name": "HTMLModel",
            "_view_count": null,
            "_view_module": "@jupyter-widgets/controls",
            "_view_module_version": "1.5.0",
            "_view_name": "HTMLView",
            "description": "",
            "description_tooltip": null,
            "layout": "IPY_MODEL_4af5abd4e3ca421fbc41269e9c434e6f",
            "placeholder": "​",
            "style": "IPY_MODEL_731074fb0f944372ad643ca60c6c1386",
            "value": " 629/629 [00:00&lt;00:00, 20.0kB/s]"
          }
        },
        "fa1c00771f574204adf783e806b86bfe": {
          "model_module": "@jupyter-widgets/base",
          "model_name": "LayoutModel",
          "model_module_version": "1.2.0",
          "state": {
            "_model_module": "@jupyter-widgets/base",
            "_model_module_version": "1.2.0",
            "_model_name": "LayoutModel",
            "_view_count": null,
            "_view_module": "@jupyter-widgets/base",
            "_view_module_version": "1.2.0",
            "_view_name": "LayoutView",
            "align_content": null,
            "align_items": null,
            "align_self": null,
            "border": null,
            "bottom": null,
            "display": null,
            "flex": null,
            "flex_flow": null,
            "grid_area": null,
            "grid_auto_columns": null,
            "grid_auto_flow": null,
            "grid_auto_rows": null,
            "grid_column": null,
            "grid_gap": null,
            "grid_row": null,
            "grid_template_areas": null,
            "grid_template_columns": null,
            "grid_template_rows": null,
            "height": null,
            "justify_content": null,
            "justify_items": null,
            "left": null,
            "margin": null,
            "max_height": null,
            "max_width": null,
            "min_height": null,
            "min_width": null,
            "object_fit": null,
            "object_position": null,
            "order": null,
            "overflow": null,
            "overflow_x": null,
            "overflow_y": null,
            "padding": null,
            "right": null,
            "top": null,
            "visibility": null,
            "width": null
          }
        },
        "0de17459c11c4a2b84976db5ef417daf": {
          "model_module": "@jupyter-widgets/base",
          "model_name": "LayoutModel",
          "model_module_version": "1.2.0",
          "state": {
            "_model_module": "@jupyter-widgets/base",
            "_model_module_version": "1.2.0",
            "_model_name": "LayoutModel",
            "_view_count": null,
            "_view_module": "@jupyter-widgets/base",
            "_view_module_version": "1.2.0",
            "_view_name": "LayoutView",
            "align_content": null,
            "align_items": null,
            "align_self": null,
            "border": null,
            "bottom": null,
            "display": null,
            "flex": null,
            "flex_flow": null,
            "grid_area": null,
            "grid_auto_columns": null,
            "grid_auto_flow": null,
            "grid_auto_rows": null,
            "grid_column": null,
            "grid_gap": null,
            "grid_row": null,
            "grid_template_areas": null,
            "grid_template_columns": null,
            "grid_template_rows": null,
            "height": null,
            "justify_content": null,
            "justify_items": null,
            "left": null,
            "margin": null,
            "max_height": null,
            "max_width": null,
            "min_height": null,
            "min_width": null,
            "object_fit": null,
            "object_position": null,
            "order": null,
            "overflow": null,
            "overflow_x": null,
            "overflow_y": null,
            "padding": null,
            "right": null,
            "top": null,
            "visibility": null,
            "width": null
          }
        },
        "17b4eedb7ecf42e69ef5fda36cd74f97": {
          "model_module": "@jupyter-widgets/controls",
          "model_name": "DescriptionStyleModel",
          "model_module_version": "1.5.0",
          "state": {
            "_model_module": "@jupyter-widgets/controls",
            "_model_module_version": "1.5.0",
            "_model_name": "DescriptionStyleModel",
            "_view_count": null,
            "_view_module": "@jupyter-widgets/base",
            "_view_module_version": "1.2.0",
            "_view_name": "StyleView",
            "description_width": ""
          }
        },
        "86ccc7475afa416aa33f3a0d3d0fd624": {
          "model_module": "@jupyter-widgets/base",
          "model_name": "LayoutModel",
          "model_module_version": "1.2.0",
          "state": {
            "_model_module": "@jupyter-widgets/base",
            "_model_module_version": "1.2.0",
            "_model_name": "LayoutModel",
            "_view_count": null,
            "_view_module": "@jupyter-widgets/base",
            "_view_module_version": "1.2.0",
            "_view_name": "LayoutView",
            "align_content": null,
            "align_items": null,
            "align_self": null,
            "border": null,
            "bottom": null,
            "display": null,
            "flex": null,
            "flex_flow": null,
            "grid_area": null,
            "grid_auto_columns": null,
            "grid_auto_flow": null,
            "grid_auto_rows": null,
            "grid_column": null,
            "grid_gap": null,
            "grid_row": null,
            "grid_template_areas": null,
            "grid_template_columns": null,
            "grid_template_rows": null,
            "height": null,
            "justify_content": null,
            "justify_items": null,
            "left": null,
            "margin": null,
            "max_height": null,
            "max_width": null,
            "min_height": null,
            "min_width": null,
            "object_fit": null,
            "object_position": null,
            "order": null,
            "overflow": null,
            "overflow_x": null,
            "overflow_y": null,
            "padding": null,
            "right": null,
            "top": null,
            "visibility": null,
            "width": null
          }
        },
        "32f34ce2142a4529a9effdee4838922c": {
          "model_module": "@jupyter-widgets/controls",
          "model_name": "ProgressStyleModel",
          "model_module_version": "1.5.0",
          "state": {
            "_model_module": "@jupyter-widgets/controls",
            "_model_module_version": "1.5.0",
            "_model_name": "ProgressStyleModel",
            "_view_count": null,
            "_view_module": "@jupyter-widgets/base",
            "_view_module_version": "1.2.0",
            "_view_name": "StyleView",
            "bar_color": null,
            "description_width": ""
          }
        },
        "4af5abd4e3ca421fbc41269e9c434e6f": {
          "model_module": "@jupyter-widgets/base",
          "model_name": "LayoutModel",
          "model_module_version": "1.2.0",
          "state": {
            "_model_module": "@jupyter-widgets/base",
            "_model_module_version": "1.2.0",
            "_model_name": "LayoutModel",
            "_view_count": null,
            "_view_module": "@jupyter-widgets/base",
            "_view_module_version": "1.2.0",
            "_view_name": "LayoutView",
            "align_content": null,
            "align_items": null,
            "align_self": null,
            "border": null,
            "bottom": null,
            "display": null,
            "flex": null,
            "flex_flow": null,
            "grid_area": null,
            "grid_auto_columns": null,
            "grid_auto_flow": null,
            "grid_auto_rows": null,
            "grid_column": null,
            "grid_gap": null,
            "grid_row": null,
            "grid_template_areas": null,
            "grid_template_columns": null,
            "grid_template_rows": null,
            "height": null,
            "justify_content": null,
            "justify_items": null,
            "left": null,
            "margin": null,
            "max_height": null,
            "max_width": null,
            "min_height": null,
            "min_width": null,
            "object_fit": null,
            "object_position": null,
            "order": null,
            "overflow": null,
            "overflow_x": null,
            "overflow_y": null,
            "padding": null,
            "right": null,
            "top": null,
            "visibility": null,
            "width": null
          }
        },
        "731074fb0f944372ad643ca60c6c1386": {
          "model_module": "@jupyter-widgets/controls",
          "model_name": "DescriptionStyleModel",
          "model_module_version": "1.5.0",
          "state": {
            "_model_module": "@jupyter-widgets/controls",
            "_model_module_version": "1.5.0",
            "_model_name": "DescriptionStyleModel",
            "_view_count": null,
            "_view_module": "@jupyter-widgets/base",
            "_view_module_version": "1.2.0",
            "_view_name": "StyleView",
            "description_width": ""
          }
        },
        "93dc3da460c94c0f88a797aea3c6e893": {
          "model_module": "@jupyter-widgets/controls",
          "model_name": "HBoxModel",
          "model_module_version": "1.5.0",
          "state": {
            "_dom_classes": [],
            "_model_module": "@jupyter-widgets/controls",
            "_model_module_version": "1.5.0",
            "_model_name": "HBoxModel",
            "_view_count": null,
            "_view_module": "@jupyter-widgets/controls",
            "_view_module_version": "1.5.0",
            "_view_name": "HBoxView",
            "box_style": "",
            "children": [
              "IPY_MODEL_d2134fe1a10c45f8b770ea9869909bb5",
              "IPY_MODEL_ca2e622f52024550b3debc31c18da643",
              "IPY_MODEL_08037a3c9d2744089e4e38e3834b9551"
            ],
            "layout": "IPY_MODEL_a9b6564e7a144e1cb6ee69467a27d3a3"
          }
        },
        "d2134fe1a10c45f8b770ea9869909bb5": {
          "model_module": "@jupyter-widgets/controls",
          "model_name": "HTMLModel",
          "model_module_version": "1.5.0",
          "state": {
            "_dom_classes": [],
            "_model_module": "@jupyter-widgets/controls",
            "_model_module_version": "1.5.0",
            "_model_name": "HTMLModel",
            "_view_count": null,
            "_view_module": "@jupyter-widgets/controls",
            "_view_module_version": "1.5.0",
            "_view_name": "HTMLView",
            "description": "",
            "description_tooltip": null,
            "layout": "IPY_MODEL_235ae895213e4db89536515646441479",
            "placeholder": "​",
            "style": "IPY_MODEL_069d2299f67b491fad2e2bd268f10d03",
            "value": "Downloading model.safetensors: 100%"
          }
        },
        "ca2e622f52024550b3debc31c18da643": {
          "model_module": "@jupyter-widgets/controls",
          "model_name": "FloatProgressModel",
          "model_module_version": "1.5.0",
          "state": {
            "_dom_classes": [],
            "_model_module": "@jupyter-widgets/controls",
            "_model_module_version": "1.5.0",
            "_model_name": "FloatProgressModel",
            "_view_count": null,
            "_view_module": "@jupyter-widgets/controls",
            "_view_module_version": "1.5.0",
            "_view_name": "ProgressView",
            "bar_style": "success",
            "description": "",
            "description_tooltip": null,
            "layout": "IPY_MODEL_6aa9da79f48049119f26e26ac946c1f3",
            "max": 267832558,
            "min": 0,
            "orientation": "horizontal",
            "style": "IPY_MODEL_b295c87ac2a74bd2a541577ae2b789ab",
            "value": 267832558
          }
        },
        "08037a3c9d2744089e4e38e3834b9551": {
          "model_module": "@jupyter-widgets/controls",
          "model_name": "HTMLModel",
          "model_module_version": "1.5.0",
          "state": {
            "_dom_classes": [],
            "_model_module": "@jupyter-widgets/controls",
            "_model_module_version": "1.5.0",
            "_model_name": "HTMLModel",
            "_view_count": null,
            "_view_module": "@jupyter-widgets/controls",
            "_view_module_version": "1.5.0",
            "_view_name": "HTMLView",
            "description": "",
            "description_tooltip": null,
            "layout": "IPY_MODEL_07dc04cc5eaa48a7949e1b2b7af3779d",
            "placeholder": "​",
            "style": "IPY_MODEL_11cb55fd01934a72b664a22027fa04ce",
            "value": " 268M/268M [00:03&lt;00:00, 140MB/s]"
          }
        },
        "a9b6564e7a144e1cb6ee69467a27d3a3": {
          "model_module": "@jupyter-widgets/base",
          "model_name": "LayoutModel",
          "model_module_version": "1.2.0",
          "state": {
            "_model_module": "@jupyter-widgets/base",
            "_model_module_version": "1.2.0",
            "_model_name": "LayoutModel",
            "_view_count": null,
            "_view_module": "@jupyter-widgets/base",
            "_view_module_version": "1.2.0",
            "_view_name": "LayoutView",
            "align_content": null,
            "align_items": null,
            "align_self": null,
            "border": null,
            "bottom": null,
            "display": null,
            "flex": null,
            "flex_flow": null,
            "grid_area": null,
            "grid_auto_columns": null,
            "grid_auto_flow": null,
            "grid_auto_rows": null,
            "grid_column": null,
            "grid_gap": null,
            "grid_row": null,
            "grid_template_areas": null,
            "grid_template_columns": null,
            "grid_template_rows": null,
            "height": null,
            "justify_content": null,
            "justify_items": null,
            "left": null,
            "margin": null,
            "max_height": null,
            "max_width": null,
            "min_height": null,
            "min_width": null,
            "object_fit": null,
            "object_position": null,
            "order": null,
            "overflow": null,
            "overflow_x": null,
            "overflow_y": null,
            "padding": null,
            "right": null,
            "top": null,
            "visibility": null,
            "width": null
          }
        },
        "235ae895213e4db89536515646441479": {
          "model_module": "@jupyter-widgets/base",
          "model_name": "LayoutModel",
          "model_module_version": "1.2.0",
          "state": {
            "_model_module": "@jupyter-widgets/base",
            "_model_module_version": "1.2.0",
            "_model_name": "LayoutModel",
            "_view_count": null,
            "_view_module": "@jupyter-widgets/base",
            "_view_module_version": "1.2.0",
            "_view_name": "LayoutView",
            "align_content": null,
            "align_items": null,
            "align_self": null,
            "border": null,
            "bottom": null,
            "display": null,
            "flex": null,
            "flex_flow": null,
            "grid_area": null,
            "grid_auto_columns": null,
            "grid_auto_flow": null,
            "grid_auto_rows": null,
            "grid_column": null,
            "grid_gap": null,
            "grid_row": null,
            "grid_template_areas": null,
            "grid_template_columns": null,
            "grid_template_rows": null,
            "height": null,
            "justify_content": null,
            "justify_items": null,
            "left": null,
            "margin": null,
            "max_height": null,
            "max_width": null,
            "min_height": null,
            "min_width": null,
            "object_fit": null,
            "object_position": null,
            "order": null,
            "overflow": null,
            "overflow_x": null,
            "overflow_y": null,
            "padding": null,
            "right": null,
            "top": null,
            "visibility": null,
            "width": null
          }
        },
        "069d2299f67b491fad2e2bd268f10d03": {
          "model_module": "@jupyter-widgets/controls",
          "model_name": "DescriptionStyleModel",
          "model_module_version": "1.5.0",
          "state": {
            "_model_module": "@jupyter-widgets/controls",
            "_model_module_version": "1.5.0",
            "_model_name": "DescriptionStyleModel",
            "_view_count": null,
            "_view_module": "@jupyter-widgets/base",
            "_view_module_version": "1.2.0",
            "_view_name": "StyleView",
            "description_width": ""
          }
        },
        "6aa9da79f48049119f26e26ac946c1f3": {
          "model_module": "@jupyter-widgets/base",
          "model_name": "LayoutModel",
          "model_module_version": "1.2.0",
          "state": {
            "_model_module": "@jupyter-widgets/base",
            "_model_module_version": "1.2.0",
            "_model_name": "LayoutModel",
            "_view_count": null,
            "_view_module": "@jupyter-widgets/base",
            "_view_module_version": "1.2.0",
            "_view_name": "LayoutView",
            "align_content": null,
            "align_items": null,
            "align_self": null,
            "border": null,
            "bottom": null,
            "display": null,
            "flex": null,
            "flex_flow": null,
            "grid_area": null,
            "grid_auto_columns": null,
            "grid_auto_flow": null,
            "grid_auto_rows": null,
            "grid_column": null,
            "grid_gap": null,
            "grid_row": null,
            "grid_template_areas": null,
            "grid_template_columns": null,
            "grid_template_rows": null,
            "height": null,
            "justify_content": null,
            "justify_items": null,
            "left": null,
            "margin": null,
            "max_height": null,
            "max_width": null,
            "min_height": null,
            "min_width": null,
            "object_fit": null,
            "object_position": null,
            "order": null,
            "overflow": null,
            "overflow_x": null,
            "overflow_y": null,
            "padding": null,
            "right": null,
            "top": null,
            "visibility": null,
            "width": null
          }
        },
        "b295c87ac2a74bd2a541577ae2b789ab": {
          "model_module": "@jupyter-widgets/controls",
          "model_name": "ProgressStyleModel",
          "model_module_version": "1.5.0",
          "state": {
            "_model_module": "@jupyter-widgets/controls",
            "_model_module_version": "1.5.0",
            "_model_name": "ProgressStyleModel",
            "_view_count": null,
            "_view_module": "@jupyter-widgets/base",
            "_view_module_version": "1.2.0",
            "_view_name": "StyleView",
            "bar_color": null,
            "description_width": ""
          }
        },
        "07dc04cc5eaa48a7949e1b2b7af3779d": {
          "model_module": "@jupyter-widgets/base",
          "model_name": "LayoutModel",
          "model_module_version": "1.2.0",
          "state": {
            "_model_module": "@jupyter-widgets/base",
            "_model_module_version": "1.2.0",
            "_model_name": "LayoutModel",
            "_view_count": null,
            "_view_module": "@jupyter-widgets/base",
            "_view_module_version": "1.2.0",
            "_view_name": "LayoutView",
            "align_content": null,
            "align_items": null,
            "align_self": null,
            "border": null,
            "bottom": null,
            "display": null,
            "flex": null,
            "flex_flow": null,
            "grid_area": null,
            "grid_auto_columns": null,
            "grid_auto_flow": null,
            "grid_auto_rows": null,
            "grid_column": null,
            "grid_gap": null,
            "grid_row": null,
            "grid_template_areas": null,
            "grid_template_columns": null,
            "grid_template_rows": null,
            "height": null,
            "justify_content": null,
            "justify_items": null,
            "left": null,
            "margin": null,
            "max_height": null,
            "max_width": null,
            "min_height": null,
            "min_width": null,
            "object_fit": null,
            "object_position": null,
            "order": null,
            "overflow": null,
            "overflow_x": null,
            "overflow_y": null,
            "padding": null,
            "right": null,
            "top": null,
            "visibility": null,
            "width": null
          }
        },
        "11cb55fd01934a72b664a22027fa04ce": {
          "model_module": "@jupyter-widgets/controls",
          "model_name": "DescriptionStyleModel",
          "model_module_version": "1.5.0",
          "state": {
            "_model_module": "@jupyter-widgets/controls",
            "_model_module_version": "1.5.0",
            "_model_name": "DescriptionStyleModel",
            "_view_count": null,
            "_view_module": "@jupyter-widgets/base",
            "_view_module_version": "1.2.0",
            "_view_name": "StyleView",
            "description_width": ""
          }
        },
        "7d9d3f2848d84724b35d24dda54cb255": {
          "model_module": "@jupyter-widgets/controls",
          "model_name": "HBoxModel",
          "model_module_version": "1.5.0",
          "state": {
            "_dom_classes": [],
            "_model_module": "@jupyter-widgets/controls",
            "_model_module_version": "1.5.0",
            "_model_name": "HBoxModel",
            "_view_count": null,
            "_view_module": "@jupyter-widgets/controls",
            "_view_module_version": "1.5.0",
            "_view_name": "HBoxView",
            "box_style": "",
            "children": [
              "IPY_MODEL_405fdd2a851348759217e95d8bcdac93",
              "IPY_MODEL_5404f2d32dc94078b6da7f286760d02c",
              "IPY_MODEL_e1392da79e45484ca7c01ac69d9b2e8d"
            ],
            "layout": "IPY_MODEL_d6990df54f984a66b83c85ffd09e6911"
          }
        },
        "405fdd2a851348759217e95d8bcdac93": {
          "model_module": "@jupyter-widgets/controls",
          "model_name": "HTMLModel",
          "model_module_version": "1.5.0",
          "state": {
            "_dom_classes": [],
            "_model_module": "@jupyter-widgets/controls",
            "_model_module_version": "1.5.0",
            "_model_name": "HTMLModel",
            "_view_count": null,
            "_view_module": "@jupyter-widgets/controls",
            "_view_module_version": "1.5.0",
            "_view_name": "HTMLView",
            "description": "",
            "description_tooltip": null,
            "layout": "IPY_MODEL_fde6e1623b8242be8decae40e59efa0a",
            "placeholder": "​",
            "style": "IPY_MODEL_1d71cfa887ce415bbe5ee517a7001714",
            "value": "Downloading (…)okenizer_config.json: 100%"
          }
        },
        "5404f2d32dc94078b6da7f286760d02c": {
          "model_module": "@jupyter-widgets/controls",
          "model_name": "FloatProgressModel",
          "model_module_version": "1.5.0",
          "state": {
            "_dom_classes": [],
            "_model_module": "@jupyter-widgets/controls",
            "_model_module_version": "1.5.0",
            "_model_name": "FloatProgressModel",
            "_view_count": null,
            "_view_module": "@jupyter-widgets/controls",
            "_view_module_version": "1.5.0",
            "_view_name": "ProgressView",
            "bar_style": "success",
            "description": "",
            "description_tooltip": null,
            "layout": "IPY_MODEL_8ab7e7259b794a658f4c5d3457d6e11d",
            "max": 48,
            "min": 0,
            "orientation": "horizontal",
            "style": "IPY_MODEL_fca8bee2d6f647858148ac6faaea5162",
            "value": 48
          }
        },
        "e1392da79e45484ca7c01ac69d9b2e8d": {
          "model_module": "@jupyter-widgets/controls",
          "model_name": "HTMLModel",
          "model_module_version": "1.5.0",
          "state": {
            "_dom_classes": [],
            "_model_module": "@jupyter-widgets/controls",
            "_model_module_version": "1.5.0",
            "_model_name": "HTMLModel",
            "_view_count": null,
            "_view_module": "@jupyter-widgets/controls",
            "_view_module_version": "1.5.0",
            "_view_name": "HTMLView",
            "description": "",
            "description_tooltip": null,
            "layout": "IPY_MODEL_9677cadbc89a4c33a04f1a0d82d9d2ee",
            "placeholder": "​",
            "style": "IPY_MODEL_fbfadc06e526401daaff0c2ec08d575c",
            "value": " 48.0/48.0 [00:00&lt;00:00, 2.09kB/s]"
          }
        },
        "d6990df54f984a66b83c85ffd09e6911": {
          "model_module": "@jupyter-widgets/base",
          "model_name": "LayoutModel",
          "model_module_version": "1.2.0",
          "state": {
            "_model_module": "@jupyter-widgets/base",
            "_model_module_version": "1.2.0",
            "_model_name": "LayoutModel",
            "_view_count": null,
            "_view_module": "@jupyter-widgets/base",
            "_view_module_version": "1.2.0",
            "_view_name": "LayoutView",
            "align_content": null,
            "align_items": null,
            "align_self": null,
            "border": null,
            "bottom": null,
            "display": null,
            "flex": null,
            "flex_flow": null,
            "grid_area": null,
            "grid_auto_columns": null,
            "grid_auto_flow": null,
            "grid_auto_rows": null,
            "grid_column": null,
            "grid_gap": null,
            "grid_row": null,
            "grid_template_areas": null,
            "grid_template_columns": null,
            "grid_template_rows": null,
            "height": null,
            "justify_content": null,
            "justify_items": null,
            "left": null,
            "margin": null,
            "max_height": null,
            "max_width": null,
            "min_height": null,
            "min_width": null,
            "object_fit": null,
            "object_position": null,
            "order": null,
            "overflow": null,
            "overflow_x": null,
            "overflow_y": null,
            "padding": null,
            "right": null,
            "top": null,
            "visibility": null,
            "width": null
          }
        },
        "fde6e1623b8242be8decae40e59efa0a": {
          "model_module": "@jupyter-widgets/base",
          "model_name": "LayoutModel",
          "model_module_version": "1.2.0",
          "state": {
            "_model_module": "@jupyter-widgets/base",
            "_model_module_version": "1.2.0",
            "_model_name": "LayoutModel",
            "_view_count": null,
            "_view_module": "@jupyter-widgets/base",
            "_view_module_version": "1.2.0",
            "_view_name": "LayoutView",
            "align_content": null,
            "align_items": null,
            "align_self": null,
            "border": null,
            "bottom": null,
            "display": null,
            "flex": null,
            "flex_flow": null,
            "grid_area": null,
            "grid_auto_columns": null,
            "grid_auto_flow": null,
            "grid_auto_rows": null,
            "grid_column": null,
            "grid_gap": null,
            "grid_row": null,
            "grid_template_areas": null,
            "grid_template_columns": null,
            "grid_template_rows": null,
            "height": null,
            "justify_content": null,
            "justify_items": null,
            "left": null,
            "margin": null,
            "max_height": null,
            "max_width": null,
            "min_height": null,
            "min_width": null,
            "object_fit": null,
            "object_position": null,
            "order": null,
            "overflow": null,
            "overflow_x": null,
            "overflow_y": null,
            "padding": null,
            "right": null,
            "top": null,
            "visibility": null,
            "width": null
          }
        },
        "1d71cfa887ce415bbe5ee517a7001714": {
          "model_module": "@jupyter-widgets/controls",
          "model_name": "DescriptionStyleModel",
          "model_module_version": "1.5.0",
          "state": {
            "_model_module": "@jupyter-widgets/controls",
            "_model_module_version": "1.5.0",
            "_model_name": "DescriptionStyleModel",
            "_view_count": null,
            "_view_module": "@jupyter-widgets/base",
            "_view_module_version": "1.2.0",
            "_view_name": "StyleView",
            "description_width": ""
          }
        },
        "8ab7e7259b794a658f4c5d3457d6e11d": {
          "model_module": "@jupyter-widgets/base",
          "model_name": "LayoutModel",
          "model_module_version": "1.2.0",
          "state": {
            "_model_module": "@jupyter-widgets/base",
            "_model_module_version": "1.2.0",
            "_model_name": "LayoutModel",
            "_view_count": null,
            "_view_module": "@jupyter-widgets/base",
            "_view_module_version": "1.2.0",
            "_view_name": "LayoutView",
            "align_content": null,
            "align_items": null,
            "align_self": null,
            "border": null,
            "bottom": null,
            "display": null,
            "flex": null,
            "flex_flow": null,
            "grid_area": null,
            "grid_auto_columns": null,
            "grid_auto_flow": null,
            "grid_auto_rows": null,
            "grid_column": null,
            "grid_gap": null,
            "grid_row": null,
            "grid_template_areas": null,
            "grid_template_columns": null,
            "grid_template_rows": null,
            "height": null,
            "justify_content": null,
            "justify_items": null,
            "left": null,
            "margin": null,
            "max_height": null,
            "max_width": null,
            "min_height": null,
            "min_width": null,
            "object_fit": null,
            "object_position": null,
            "order": null,
            "overflow": null,
            "overflow_x": null,
            "overflow_y": null,
            "padding": null,
            "right": null,
            "top": null,
            "visibility": null,
            "width": null
          }
        },
        "fca8bee2d6f647858148ac6faaea5162": {
          "model_module": "@jupyter-widgets/controls",
          "model_name": "ProgressStyleModel",
          "model_module_version": "1.5.0",
          "state": {
            "_model_module": "@jupyter-widgets/controls",
            "_model_module_version": "1.5.0",
            "_model_name": "ProgressStyleModel",
            "_view_count": null,
            "_view_module": "@jupyter-widgets/base",
            "_view_module_version": "1.2.0",
            "_view_name": "StyleView",
            "bar_color": null,
            "description_width": ""
          }
        },
        "9677cadbc89a4c33a04f1a0d82d9d2ee": {
          "model_module": "@jupyter-widgets/base",
          "model_name": "LayoutModel",
          "model_module_version": "1.2.0",
          "state": {
            "_model_module": "@jupyter-widgets/base",
            "_model_module_version": "1.2.0",
            "_model_name": "LayoutModel",
            "_view_count": null,
            "_view_module": "@jupyter-widgets/base",
            "_view_module_version": "1.2.0",
            "_view_name": "LayoutView",
            "align_content": null,
            "align_items": null,
            "align_self": null,
            "border": null,
            "bottom": null,
            "display": null,
            "flex": null,
            "flex_flow": null,
            "grid_area": null,
            "grid_auto_columns": null,
            "grid_auto_flow": null,
            "grid_auto_rows": null,
            "grid_column": null,
            "grid_gap": null,
            "grid_row": null,
            "grid_template_areas": null,
            "grid_template_columns": null,
            "grid_template_rows": null,
            "height": null,
            "justify_content": null,
            "justify_items": null,
            "left": null,
            "margin": null,
            "max_height": null,
            "max_width": null,
            "min_height": null,
            "min_width": null,
            "object_fit": null,
            "object_position": null,
            "order": null,
            "overflow": null,
            "overflow_x": null,
            "overflow_y": null,
            "padding": null,
            "right": null,
            "top": null,
            "visibility": null,
            "width": null
          }
        },
        "fbfadc06e526401daaff0c2ec08d575c": {
          "model_module": "@jupyter-widgets/controls",
          "model_name": "DescriptionStyleModel",
          "model_module_version": "1.5.0",
          "state": {
            "_model_module": "@jupyter-widgets/controls",
            "_model_module_version": "1.5.0",
            "_model_name": "DescriptionStyleModel",
            "_view_count": null,
            "_view_module": "@jupyter-widgets/base",
            "_view_module_version": "1.2.0",
            "_view_name": "StyleView",
            "description_width": ""
          }
        },
        "50977bc7f23e4576b87f53669490a0e1": {
          "model_module": "@jupyter-widgets/controls",
          "model_name": "HBoxModel",
          "model_module_version": "1.5.0",
          "state": {
            "_dom_classes": [],
            "_model_module": "@jupyter-widgets/controls",
            "_model_module_version": "1.5.0",
            "_model_name": "HBoxModel",
            "_view_count": null,
            "_view_module": "@jupyter-widgets/controls",
            "_view_module_version": "1.5.0",
            "_view_name": "HBoxView",
            "box_style": "",
            "children": [
              "IPY_MODEL_d384a80e58ca4fdeaf61d1c1b9cc1cad",
              "IPY_MODEL_2f60c97b126647fba450ebf77fee97ef",
              "IPY_MODEL_998c90dd50aa4129a86a5e08d5d1db16"
            ],
            "layout": "IPY_MODEL_3144d6c0e1394315aeca2bb09a338a36"
          }
        },
        "d384a80e58ca4fdeaf61d1c1b9cc1cad": {
          "model_module": "@jupyter-widgets/controls",
          "model_name": "HTMLModel",
          "model_module_version": "1.5.0",
          "state": {
            "_dom_classes": [],
            "_model_module": "@jupyter-widgets/controls",
            "_model_module_version": "1.5.0",
            "_model_name": "HTMLModel",
            "_view_count": null,
            "_view_module": "@jupyter-widgets/controls",
            "_view_module_version": "1.5.0",
            "_view_name": "HTMLView",
            "description": "",
            "description_tooltip": null,
            "layout": "IPY_MODEL_ba65aac1eac04dd3bde2f922d2f142f8",
            "placeholder": "​",
            "style": "IPY_MODEL_f03292af1b984194aed64016473098bc",
            "value": "Downloading (…)solve/main/vocab.txt: 100%"
          }
        },
        "2f60c97b126647fba450ebf77fee97ef": {
          "model_module": "@jupyter-widgets/controls",
          "model_name": "FloatProgressModel",
          "model_module_version": "1.5.0",
          "state": {
            "_dom_classes": [],
            "_model_module": "@jupyter-widgets/controls",
            "_model_module_version": "1.5.0",
            "_model_name": "FloatProgressModel",
            "_view_count": null,
            "_view_module": "@jupyter-widgets/controls",
            "_view_module_version": "1.5.0",
            "_view_name": "ProgressView",
            "bar_style": "success",
            "description": "",
            "description_tooltip": null,
            "layout": "IPY_MODEL_8ebc131cfcdf4419bf14dc5dd615ec3d",
            "max": 231508,
            "min": 0,
            "orientation": "horizontal",
            "style": "IPY_MODEL_dc66552305de4882b31b04b7b1dac86b",
            "value": 231508
          }
        },
        "998c90dd50aa4129a86a5e08d5d1db16": {
          "model_module": "@jupyter-widgets/controls",
          "model_name": "HTMLModel",
          "model_module_version": "1.5.0",
          "state": {
            "_dom_classes": [],
            "_model_module": "@jupyter-widgets/controls",
            "_model_module_version": "1.5.0",
            "_model_name": "HTMLModel",
            "_view_count": null,
            "_view_module": "@jupyter-widgets/controls",
            "_view_module_version": "1.5.0",
            "_view_name": "HTMLView",
            "description": "",
            "description_tooltip": null,
            "layout": "IPY_MODEL_2dcfd6be5c694061ac89f5d66cff7cda",
            "placeholder": "​",
            "style": "IPY_MODEL_4befcba3dc39404bbc2b2ec022a453c5",
            "value": " 232k/232k [00:00&lt;00:00, 625kB/s]"
          }
        },
        "3144d6c0e1394315aeca2bb09a338a36": {
          "model_module": "@jupyter-widgets/base",
          "model_name": "LayoutModel",
          "model_module_version": "1.2.0",
          "state": {
            "_model_module": "@jupyter-widgets/base",
            "_model_module_version": "1.2.0",
            "_model_name": "LayoutModel",
            "_view_count": null,
            "_view_module": "@jupyter-widgets/base",
            "_view_module_version": "1.2.0",
            "_view_name": "LayoutView",
            "align_content": null,
            "align_items": null,
            "align_self": null,
            "border": null,
            "bottom": null,
            "display": null,
            "flex": null,
            "flex_flow": null,
            "grid_area": null,
            "grid_auto_columns": null,
            "grid_auto_flow": null,
            "grid_auto_rows": null,
            "grid_column": null,
            "grid_gap": null,
            "grid_row": null,
            "grid_template_areas": null,
            "grid_template_columns": null,
            "grid_template_rows": null,
            "height": null,
            "justify_content": null,
            "justify_items": null,
            "left": null,
            "margin": null,
            "max_height": null,
            "max_width": null,
            "min_height": null,
            "min_width": null,
            "object_fit": null,
            "object_position": null,
            "order": null,
            "overflow": null,
            "overflow_x": null,
            "overflow_y": null,
            "padding": null,
            "right": null,
            "top": null,
            "visibility": null,
            "width": null
          }
        },
        "ba65aac1eac04dd3bde2f922d2f142f8": {
          "model_module": "@jupyter-widgets/base",
          "model_name": "LayoutModel",
          "model_module_version": "1.2.0",
          "state": {
            "_model_module": "@jupyter-widgets/base",
            "_model_module_version": "1.2.0",
            "_model_name": "LayoutModel",
            "_view_count": null,
            "_view_module": "@jupyter-widgets/base",
            "_view_module_version": "1.2.0",
            "_view_name": "LayoutView",
            "align_content": null,
            "align_items": null,
            "align_self": null,
            "border": null,
            "bottom": null,
            "display": null,
            "flex": null,
            "flex_flow": null,
            "grid_area": null,
            "grid_auto_columns": null,
            "grid_auto_flow": null,
            "grid_auto_rows": null,
            "grid_column": null,
            "grid_gap": null,
            "grid_row": null,
            "grid_template_areas": null,
            "grid_template_columns": null,
            "grid_template_rows": null,
            "height": null,
            "justify_content": null,
            "justify_items": null,
            "left": null,
            "margin": null,
            "max_height": null,
            "max_width": null,
            "min_height": null,
            "min_width": null,
            "object_fit": null,
            "object_position": null,
            "order": null,
            "overflow": null,
            "overflow_x": null,
            "overflow_y": null,
            "padding": null,
            "right": null,
            "top": null,
            "visibility": null,
            "width": null
          }
        },
        "f03292af1b984194aed64016473098bc": {
          "model_module": "@jupyter-widgets/controls",
          "model_name": "DescriptionStyleModel",
          "model_module_version": "1.5.0",
          "state": {
            "_model_module": "@jupyter-widgets/controls",
            "_model_module_version": "1.5.0",
            "_model_name": "DescriptionStyleModel",
            "_view_count": null,
            "_view_module": "@jupyter-widgets/base",
            "_view_module_version": "1.2.0",
            "_view_name": "StyleView",
            "description_width": ""
          }
        },
        "8ebc131cfcdf4419bf14dc5dd615ec3d": {
          "model_module": "@jupyter-widgets/base",
          "model_name": "LayoutModel",
          "model_module_version": "1.2.0",
          "state": {
            "_model_module": "@jupyter-widgets/base",
            "_model_module_version": "1.2.0",
            "_model_name": "LayoutModel",
            "_view_count": null,
            "_view_module": "@jupyter-widgets/base",
            "_view_module_version": "1.2.0",
            "_view_name": "LayoutView",
            "align_content": null,
            "align_items": null,
            "align_self": null,
            "border": null,
            "bottom": null,
            "display": null,
            "flex": null,
            "flex_flow": null,
            "grid_area": null,
            "grid_auto_columns": null,
            "grid_auto_flow": null,
            "grid_auto_rows": null,
            "grid_column": null,
            "grid_gap": null,
            "grid_row": null,
            "grid_template_areas": null,
            "grid_template_columns": null,
            "grid_template_rows": null,
            "height": null,
            "justify_content": null,
            "justify_items": null,
            "left": null,
            "margin": null,
            "max_height": null,
            "max_width": null,
            "min_height": null,
            "min_width": null,
            "object_fit": null,
            "object_position": null,
            "order": null,
            "overflow": null,
            "overflow_x": null,
            "overflow_y": null,
            "padding": null,
            "right": null,
            "top": null,
            "visibility": null,
            "width": null
          }
        },
        "dc66552305de4882b31b04b7b1dac86b": {
          "model_module": "@jupyter-widgets/controls",
          "model_name": "ProgressStyleModel",
          "model_module_version": "1.5.0",
          "state": {
            "_model_module": "@jupyter-widgets/controls",
            "_model_module_version": "1.5.0",
            "_model_name": "ProgressStyleModel",
            "_view_count": null,
            "_view_module": "@jupyter-widgets/base",
            "_view_module_version": "1.2.0",
            "_view_name": "StyleView",
            "bar_color": null,
            "description_width": ""
          }
        },
        "2dcfd6be5c694061ac89f5d66cff7cda": {
          "model_module": "@jupyter-widgets/base",
          "model_name": "LayoutModel",
          "model_module_version": "1.2.0",
          "state": {
            "_model_module": "@jupyter-widgets/base",
            "_model_module_version": "1.2.0",
            "_model_name": "LayoutModel",
            "_view_count": null,
            "_view_module": "@jupyter-widgets/base",
            "_view_module_version": "1.2.0",
            "_view_name": "LayoutView",
            "align_content": null,
            "align_items": null,
            "align_self": null,
            "border": null,
            "bottom": null,
            "display": null,
            "flex": null,
            "flex_flow": null,
            "grid_area": null,
            "grid_auto_columns": null,
            "grid_auto_flow": null,
            "grid_auto_rows": null,
            "grid_column": null,
            "grid_gap": null,
            "grid_row": null,
            "grid_template_areas": null,
            "grid_template_columns": null,
            "grid_template_rows": null,
            "height": null,
            "justify_content": null,
            "justify_items": null,
            "left": null,
            "margin": null,
            "max_height": null,
            "max_width": null,
            "min_height": null,
            "min_width": null,
            "object_fit": null,
            "object_position": null,
            "order": null,
            "overflow": null,
            "overflow_x": null,
            "overflow_y": null,
            "padding": null,
            "right": null,
            "top": null,
            "visibility": null,
            "width": null
          }
        },
        "4befcba3dc39404bbc2b2ec022a453c5": {
          "model_module": "@jupyter-widgets/controls",
          "model_name": "DescriptionStyleModel",
          "model_module_version": "1.5.0",
          "state": {
            "_model_module": "@jupyter-widgets/controls",
            "_model_module_version": "1.5.0",
            "_model_name": "DescriptionStyleModel",
            "_view_count": null,
            "_view_module": "@jupyter-widgets/base",
            "_view_module_version": "1.2.0",
            "_view_name": "StyleView",
            "description_width": ""
          }
        },
        "4147181c650449eca33cb779067cae5c": {
          "model_module": "@jupyter-widgets/controls",
          "model_name": "HBoxModel",
          "model_module_version": "1.5.0",
          "state": {
            "_dom_classes": [],
            "_model_module": "@jupyter-widgets/controls",
            "_model_module_version": "1.5.0",
            "_model_name": "HBoxModel",
            "_view_count": null,
            "_view_module": "@jupyter-widgets/controls",
            "_view_module_version": "1.5.0",
            "_view_name": "HBoxView",
            "box_style": "",
            "children": [
              "IPY_MODEL_c304a7d242de4d229320faf67ed19cf5",
              "IPY_MODEL_837003b796b8493abd601a12b982bc54",
              "IPY_MODEL_0f65946f783a4839bf9bb41da520ccef"
            ],
            "layout": "IPY_MODEL_c6af58529a0e49418c544974f4b23327"
          }
        },
        "c304a7d242de4d229320faf67ed19cf5": {
          "model_module": "@jupyter-widgets/controls",
          "model_name": "HTMLModel",
          "model_module_version": "1.5.0",
          "state": {
            "_dom_classes": [],
            "_model_module": "@jupyter-widgets/controls",
            "_model_module_version": "1.5.0",
            "_model_name": "HTMLModel",
            "_view_count": null,
            "_view_module": "@jupyter-widgets/controls",
            "_view_module_version": "1.5.0",
            "_view_name": "HTMLView",
            "description": "",
            "description_tooltip": null,
            "layout": "IPY_MODEL_c8012ce2ec334defa0c4794010ac1593",
            "placeholder": "​",
            "style": "IPY_MODEL_e3868ddcdcdd454bb382a6e2b4865d3b",
            "value": "Map: 100%"
          }
        },
        "837003b796b8493abd601a12b982bc54": {
          "model_module": "@jupyter-widgets/controls",
          "model_name": "FloatProgressModel",
          "model_module_version": "1.5.0",
          "state": {
            "_dom_classes": [],
            "_model_module": "@jupyter-widgets/controls",
            "_model_module_version": "1.5.0",
            "_model_name": "FloatProgressModel",
            "_view_count": null,
            "_view_module": "@jupyter-widgets/controls",
            "_view_module_version": "1.5.0",
            "_view_name": "ProgressView",
            "bar_style": "success",
            "description": "",
            "description_tooltip": null,
            "layout": "IPY_MODEL_13861d9aa0184aa6a6b5c09af93b99eb",
            "max": 665,
            "min": 0,
            "orientation": "horizontal",
            "style": "IPY_MODEL_58a1e64f2d7d40ee893bcd0c15d02563",
            "value": 665
          }
        },
        "0f65946f783a4839bf9bb41da520ccef": {
          "model_module": "@jupyter-widgets/controls",
          "model_name": "HTMLModel",
          "model_module_version": "1.5.0",
          "state": {
            "_dom_classes": [],
            "_model_module": "@jupyter-widgets/controls",
            "_model_module_version": "1.5.0",
            "_model_name": "HTMLModel",
            "_view_count": null,
            "_view_module": "@jupyter-widgets/controls",
            "_view_module_version": "1.5.0",
            "_view_name": "HTMLView",
            "description": "",
            "description_tooltip": null,
            "layout": "IPY_MODEL_8fd3fcb2b6ab408aa31a7546b987b4bc",
            "placeholder": "​",
            "style": "IPY_MODEL_1be812b21a0d40bd863b883625540d79",
            "value": " 665/665 [00:00&lt;00:00, 2125.80 examples/s]"
          }
        },
        "c6af58529a0e49418c544974f4b23327": {
          "model_module": "@jupyter-widgets/base",
          "model_name": "LayoutModel",
          "model_module_version": "1.2.0",
          "state": {
            "_model_module": "@jupyter-widgets/base",
            "_model_module_version": "1.2.0",
            "_model_name": "LayoutModel",
            "_view_count": null,
            "_view_module": "@jupyter-widgets/base",
            "_view_module_version": "1.2.0",
            "_view_name": "LayoutView",
            "align_content": null,
            "align_items": null,
            "align_self": null,
            "border": null,
            "bottom": null,
            "display": null,
            "flex": null,
            "flex_flow": null,
            "grid_area": null,
            "grid_auto_columns": null,
            "grid_auto_flow": null,
            "grid_auto_rows": null,
            "grid_column": null,
            "grid_gap": null,
            "grid_row": null,
            "grid_template_areas": null,
            "grid_template_columns": null,
            "grid_template_rows": null,
            "height": null,
            "justify_content": null,
            "justify_items": null,
            "left": null,
            "margin": null,
            "max_height": null,
            "max_width": null,
            "min_height": null,
            "min_width": null,
            "object_fit": null,
            "object_position": null,
            "order": null,
            "overflow": null,
            "overflow_x": null,
            "overflow_y": null,
            "padding": null,
            "right": null,
            "top": null,
            "visibility": null,
            "width": null
          }
        },
        "c8012ce2ec334defa0c4794010ac1593": {
          "model_module": "@jupyter-widgets/base",
          "model_name": "LayoutModel",
          "model_module_version": "1.2.0",
          "state": {
            "_model_module": "@jupyter-widgets/base",
            "_model_module_version": "1.2.0",
            "_model_name": "LayoutModel",
            "_view_count": null,
            "_view_module": "@jupyter-widgets/base",
            "_view_module_version": "1.2.0",
            "_view_name": "LayoutView",
            "align_content": null,
            "align_items": null,
            "align_self": null,
            "border": null,
            "bottom": null,
            "display": null,
            "flex": null,
            "flex_flow": null,
            "grid_area": null,
            "grid_auto_columns": null,
            "grid_auto_flow": null,
            "grid_auto_rows": null,
            "grid_column": null,
            "grid_gap": null,
            "grid_row": null,
            "grid_template_areas": null,
            "grid_template_columns": null,
            "grid_template_rows": null,
            "height": null,
            "justify_content": null,
            "justify_items": null,
            "left": null,
            "margin": null,
            "max_height": null,
            "max_width": null,
            "min_height": null,
            "min_width": null,
            "object_fit": null,
            "object_position": null,
            "order": null,
            "overflow": null,
            "overflow_x": null,
            "overflow_y": null,
            "padding": null,
            "right": null,
            "top": null,
            "visibility": null,
            "width": null
          }
        },
        "e3868ddcdcdd454bb382a6e2b4865d3b": {
          "model_module": "@jupyter-widgets/controls",
          "model_name": "DescriptionStyleModel",
          "model_module_version": "1.5.0",
          "state": {
            "_model_module": "@jupyter-widgets/controls",
            "_model_module_version": "1.5.0",
            "_model_name": "DescriptionStyleModel",
            "_view_count": null,
            "_view_module": "@jupyter-widgets/base",
            "_view_module_version": "1.2.0",
            "_view_name": "StyleView",
            "description_width": ""
          }
        },
        "13861d9aa0184aa6a6b5c09af93b99eb": {
          "model_module": "@jupyter-widgets/base",
          "model_name": "LayoutModel",
          "model_module_version": "1.2.0",
          "state": {
            "_model_module": "@jupyter-widgets/base",
            "_model_module_version": "1.2.0",
            "_model_name": "LayoutModel",
            "_view_count": null,
            "_view_module": "@jupyter-widgets/base",
            "_view_module_version": "1.2.0",
            "_view_name": "LayoutView",
            "align_content": null,
            "align_items": null,
            "align_self": null,
            "border": null,
            "bottom": null,
            "display": null,
            "flex": null,
            "flex_flow": null,
            "grid_area": null,
            "grid_auto_columns": null,
            "grid_auto_flow": null,
            "grid_auto_rows": null,
            "grid_column": null,
            "grid_gap": null,
            "grid_row": null,
            "grid_template_areas": null,
            "grid_template_columns": null,
            "grid_template_rows": null,
            "height": null,
            "justify_content": null,
            "justify_items": null,
            "left": null,
            "margin": null,
            "max_height": null,
            "max_width": null,
            "min_height": null,
            "min_width": null,
            "object_fit": null,
            "object_position": null,
            "order": null,
            "overflow": null,
            "overflow_x": null,
            "overflow_y": null,
            "padding": null,
            "right": null,
            "top": null,
            "visibility": null,
            "width": null
          }
        },
        "58a1e64f2d7d40ee893bcd0c15d02563": {
          "model_module": "@jupyter-widgets/controls",
          "model_name": "ProgressStyleModel",
          "model_module_version": "1.5.0",
          "state": {
            "_model_module": "@jupyter-widgets/controls",
            "_model_module_version": "1.5.0",
            "_model_name": "ProgressStyleModel",
            "_view_count": null,
            "_view_module": "@jupyter-widgets/base",
            "_view_module_version": "1.2.0",
            "_view_name": "StyleView",
            "bar_color": null,
            "description_width": ""
          }
        },
        "8fd3fcb2b6ab408aa31a7546b987b4bc": {
          "model_module": "@jupyter-widgets/base",
          "model_name": "LayoutModel",
          "model_module_version": "1.2.0",
          "state": {
            "_model_module": "@jupyter-widgets/base",
            "_model_module_version": "1.2.0",
            "_model_name": "LayoutModel",
            "_view_count": null,
            "_view_module": "@jupyter-widgets/base",
            "_view_module_version": "1.2.0",
            "_view_name": "LayoutView",
            "align_content": null,
            "align_items": null,
            "align_self": null,
            "border": null,
            "bottom": null,
            "display": null,
            "flex": null,
            "flex_flow": null,
            "grid_area": null,
            "grid_auto_columns": null,
            "grid_auto_flow": null,
            "grid_auto_rows": null,
            "grid_column": null,
            "grid_gap": null,
            "grid_row": null,
            "grid_template_areas": null,
            "grid_template_columns": null,
            "grid_template_rows": null,
            "height": null,
            "justify_content": null,
            "justify_items": null,
            "left": null,
            "margin": null,
            "max_height": null,
            "max_width": null,
            "min_height": null,
            "min_width": null,
            "object_fit": null,
            "object_position": null,
            "order": null,
            "overflow": null,
            "overflow_x": null,
            "overflow_y": null,
            "padding": null,
            "right": null,
            "top": null,
            "visibility": null,
            "width": null
          }
        },
        "1be812b21a0d40bd863b883625540d79": {
          "model_module": "@jupyter-widgets/controls",
          "model_name": "DescriptionStyleModel",
          "model_module_version": "1.5.0",
          "state": {
            "_model_module": "@jupyter-widgets/controls",
            "_model_module_version": "1.5.0",
            "_model_name": "DescriptionStyleModel",
            "_view_count": null,
            "_view_module": "@jupyter-widgets/base",
            "_view_module_version": "1.2.0",
            "_view_name": "StyleView",
            "description_width": ""
          }
        }
      }
    }
  },
  "cells": [
    {
      "cell_type": "markdown",
      "metadata": {
        "id": "view-in-github",
        "colab_type": "text"
      },
      "source": [
        "<a href=\"https://colab.research.google.com/github/liz435/AlternativePersona/blob/main/Persona.ipynb\" target=\"_parent\"><img src=\"https://colab.research.google.com/assets/colab-badge.svg\" alt=\"Open In Colab\"/></a>"
      ]
    },
    {
      "cell_type": "code",
      "execution_count": null,
      "metadata": {
        "id": "97NtbxdLgc-5"
      },
      "outputs": [],
      "source": [
        "%%capture\n",
        "!pip install transformers datasets"
      ]
    },
    {
      "cell_type": "code",
      "source": [
        "import pandas as pd"
      ],
      "metadata": {
        "id": "9MAUMIOXhZYG"
      },
      "execution_count": null,
      "outputs": []
    },
    {
      "cell_type": "markdown",
      "source": [
        "\n",
        "Load in History Data"
      ],
      "metadata": {
        "id": "YZ2_gkFpK-xM"
      }
    },
    {
      "cell_type": "code",
      "source": [
        "from google.colab import drive\n",
        "drive.mount('/content/drive')"
      ],
      "metadata": {
        "colab": {
          "base_uri": "https://localhost:8080/"
        },
        "id": "HYjVGydAbOxO",
        "outputId": "637b167e-69d9-4fc4-de0f-0f306110e14c"
      },
      "execution_count": 11,
      "outputs": [
        {
          "output_type": "stream",
          "name": "stdout",
          "text": [
            "Mounted at /content/drive\n"
          ]
        }
      ]
    },
    {
      "cell_type": "code",
      "source": [
        "BrowserHistoryJson = pd.read_json('drive/MyDrive/midterm/Takeout4/Chrome/BrowserHistory.json')\n",
        "BrowserHistoryJson"
      ],
      "metadata": {
        "colab": {
          "base_uri": "https://localhost:8080/",
          "height": 952
        },
        "id": "zDCsWZUGHW88",
        "outputId": "f5a5ae0e-2c42-4b76-865d-510375770b03"
      },
      "execution_count": 15,
      "outputs": [
        {
          "output_type": "execute_result",
          "data": {
            "text/plain": [
              "                                         Browser History\n",
              "0      {'favicon_url': 'https://www.google.com/favico...\n",
              "1      {'favicon_url': 'https://ssl.gstatic.com/ui/v1...\n",
              "2      {'favicon_url': 'https://ssl.gstatic.com/ui/v1...\n",
              "3      {'favicon_url': 'https://duckduckgo.com/favico...\n",
              "4      {'favicon_url': 'https://www.google.com/favico...\n",
              "...                                                  ...\n",
              "77499  {'favicon_url': 'https://du11hjcvx0uqb.cloudfr...\n",
              "77500  {'favicon_url': 'https://du11hjcvx0uqb.cloudfr...\n",
              "77501  {'favicon_url': 'https://du11hjcvx0uqb.cloudfr...\n",
              "77502  {'favicon_url': 'https://du11hjcvx0uqb.cloudfr...\n",
              "77503  {'favicon_url': 'https://ssl.gstatic.com/docs/...\n",
              "\n",
              "[77504 rows x 1 columns]"
            ],
            "text/html": [
              "\n",
              "  <div id=\"df-b21d9d08-f643-4986-9934-0a57763d4f5f\" class=\"colab-df-container\">\n",
              "    <div>\n",
              "<style scoped>\n",
              "    .dataframe tbody tr th:only-of-type {\n",
              "        vertical-align: middle;\n",
              "    }\n",
              "\n",
              "    .dataframe tbody tr th {\n",
              "        vertical-align: top;\n",
              "    }\n",
              "\n",
              "    .dataframe thead th {\n",
              "        text-align: right;\n",
              "    }\n",
              "</style>\n",
              "<table border=\"1\" class=\"dataframe\">\n",
              "  <thead>\n",
              "    <tr style=\"text-align: right;\">\n",
              "      <th></th>\n",
              "      <th>Browser History</th>\n",
              "    </tr>\n",
              "  </thead>\n",
              "  <tbody>\n",
              "    <tr>\n",
              "      <th>0</th>\n",
              "      <td>{'favicon_url': 'https://www.google.com/favico...</td>\n",
              "    </tr>\n",
              "    <tr>\n",
              "      <th>1</th>\n",
              "      <td>{'favicon_url': 'https://ssl.gstatic.com/ui/v1...</td>\n",
              "    </tr>\n",
              "    <tr>\n",
              "      <th>2</th>\n",
              "      <td>{'favicon_url': 'https://ssl.gstatic.com/ui/v1...</td>\n",
              "    </tr>\n",
              "    <tr>\n",
              "      <th>3</th>\n",
              "      <td>{'favicon_url': 'https://duckduckgo.com/favico...</td>\n",
              "    </tr>\n",
              "    <tr>\n",
              "      <th>4</th>\n",
              "      <td>{'favicon_url': 'https://www.google.com/favico...</td>\n",
              "    </tr>\n",
              "    <tr>\n",
              "      <th>...</th>\n",
              "      <td>...</td>\n",
              "    </tr>\n",
              "    <tr>\n",
              "      <th>77499</th>\n",
              "      <td>{'favicon_url': 'https://du11hjcvx0uqb.cloudfr...</td>\n",
              "    </tr>\n",
              "    <tr>\n",
              "      <th>77500</th>\n",
              "      <td>{'favicon_url': 'https://du11hjcvx0uqb.cloudfr...</td>\n",
              "    </tr>\n",
              "    <tr>\n",
              "      <th>77501</th>\n",
              "      <td>{'favicon_url': 'https://du11hjcvx0uqb.cloudfr...</td>\n",
              "    </tr>\n",
              "    <tr>\n",
              "      <th>77502</th>\n",
              "      <td>{'favicon_url': 'https://du11hjcvx0uqb.cloudfr...</td>\n",
              "    </tr>\n",
              "    <tr>\n",
              "      <th>77503</th>\n",
              "      <td>{'favicon_url': 'https://ssl.gstatic.com/docs/...</td>\n",
              "    </tr>\n",
              "  </tbody>\n",
              "</table>\n",
              "<p>77504 rows × 1 columns</p>\n",
              "</div>\n",
              "    <div class=\"colab-df-buttons\">\n",
              "\n",
              "  <div class=\"colab-df-container\">\n",
              "    <button class=\"colab-df-convert\" onclick=\"convertToInteractive('df-b21d9d08-f643-4986-9934-0a57763d4f5f')\"\n",
              "            title=\"Convert this dataframe to an interactive table.\"\n",
              "            style=\"display:none;\">\n",
              "\n",
              "  <svg xmlns=\"http://www.w3.org/2000/svg\" height=\"24px\" viewBox=\"0 -960 960 960\">\n",
              "    <path d=\"M120-120v-720h720v720H120Zm60-500h600v-160H180v160Zm220 220h160v-160H400v160Zm0 220h160v-160H400v160ZM180-400h160v-160H180v160Zm440 0h160v-160H620v160ZM180-180h160v-160H180v160Zm440 0h160v-160H620v160Z\"/>\n",
              "  </svg>\n",
              "    </button>\n",
              "\n",
              "  <style>\n",
              "    .colab-df-container {\n",
              "      display:flex;\n",
              "      gap: 12px;\n",
              "    }\n",
              "\n",
              "    .colab-df-convert {\n",
              "      background-color: #E8F0FE;\n",
              "      border: none;\n",
              "      border-radius: 50%;\n",
              "      cursor: pointer;\n",
              "      display: none;\n",
              "      fill: #1967D2;\n",
              "      height: 32px;\n",
              "      padding: 0 0 0 0;\n",
              "      width: 32px;\n",
              "    }\n",
              "\n",
              "    .colab-df-convert:hover {\n",
              "      background-color: #E2EBFA;\n",
              "      box-shadow: 0px 1px 2px rgba(60, 64, 67, 0.3), 0px 1px 3px 1px rgba(60, 64, 67, 0.15);\n",
              "      fill: #174EA6;\n",
              "    }\n",
              "\n",
              "    .colab-df-buttons div {\n",
              "      margin-bottom: 4px;\n",
              "    }\n",
              "\n",
              "    [theme=dark] .colab-df-convert {\n",
              "      background-color: #3B4455;\n",
              "      fill: #D2E3FC;\n",
              "    }\n",
              "\n",
              "    [theme=dark] .colab-df-convert:hover {\n",
              "      background-color: #434B5C;\n",
              "      box-shadow: 0px 1px 3px 1px rgba(0, 0, 0, 0.15);\n",
              "      filter: drop-shadow(0px 1px 2px rgba(0, 0, 0, 0.3));\n",
              "      fill: #FFFFFF;\n",
              "    }\n",
              "  </style>\n",
              "\n",
              "    <script>\n",
              "      const buttonEl =\n",
              "        document.querySelector('#df-b21d9d08-f643-4986-9934-0a57763d4f5f button.colab-df-convert');\n",
              "      buttonEl.style.display =\n",
              "        google.colab.kernel.accessAllowed ? 'block' : 'none';\n",
              "\n",
              "      async function convertToInteractive(key) {\n",
              "        const element = document.querySelector('#df-b21d9d08-f643-4986-9934-0a57763d4f5f');\n",
              "        const dataTable =\n",
              "          await google.colab.kernel.invokeFunction('convertToInteractive',\n",
              "                                                    [key], {});\n",
              "        if (!dataTable) return;\n",
              "\n",
              "        const docLinkHtml = 'Like what you see? Visit the ' +\n",
              "          '<a target=\"_blank\" href=https://colab.research.google.com/notebooks/data_table.ipynb>data table notebook</a>'\n",
              "          + ' to learn more about interactive tables.';\n",
              "        element.innerHTML = '';\n",
              "        dataTable['output_type'] = 'display_data';\n",
              "        await google.colab.output.renderOutput(dataTable, element);\n",
              "        const docLink = document.createElement('div');\n",
              "        docLink.innerHTML = docLinkHtml;\n",
              "        element.appendChild(docLink);\n",
              "      }\n",
              "    </script>\n",
              "  </div>\n",
              "\n",
              "\n",
              "<div id=\"df-4ea2b103-7c83-4010-934c-19d771a24a33\">\n",
              "  <button class=\"colab-df-quickchart\" onclick=\"quickchart('df-4ea2b103-7c83-4010-934c-19d771a24a33')\"\n",
              "            title=\"Suggest charts.\"\n",
              "            style=\"display:none;\">\n",
              "\n",
              "<svg xmlns=\"http://www.w3.org/2000/svg\" height=\"24px\"viewBox=\"0 0 24 24\"\n",
              "     width=\"24px\">\n",
              "    <g>\n",
              "        <path d=\"M19 3H5c-1.1 0-2 .9-2 2v14c0 1.1.9 2 2 2h14c1.1 0 2-.9 2-2V5c0-1.1-.9-2-2-2zM9 17H7v-7h2v7zm4 0h-2V7h2v10zm4 0h-2v-4h2v4z\"/>\n",
              "    </g>\n",
              "</svg>\n",
              "  </button>\n",
              "\n",
              "<style>\n",
              "  .colab-df-quickchart {\n",
              "      --bg-color: #E8F0FE;\n",
              "      --fill-color: #1967D2;\n",
              "      --hover-bg-color: #E2EBFA;\n",
              "      --hover-fill-color: #174EA6;\n",
              "      --disabled-fill-color: #AAA;\n",
              "      --disabled-bg-color: #DDD;\n",
              "  }\n",
              "\n",
              "  [theme=dark] .colab-df-quickchart {\n",
              "      --bg-color: #3B4455;\n",
              "      --fill-color: #D2E3FC;\n",
              "      --hover-bg-color: #434B5C;\n",
              "      --hover-fill-color: #FFFFFF;\n",
              "      --disabled-bg-color: #3B4455;\n",
              "      --disabled-fill-color: #666;\n",
              "  }\n",
              "\n",
              "  .colab-df-quickchart {\n",
              "    background-color: var(--bg-color);\n",
              "    border: none;\n",
              "    border-radius: 50%;\n",
              "    cursor: pointer;\n",
              "    display: none;\n",
              "    fill: var(--fill-color);\n",
              "    height: 32px;\n",
              "    padding: 0;\n",
              "    width: 32px;\n",
              "  }\n",
              "\n",
              "  .colab-df-quickchart:hover {\n",
              "    background-color: var(--hover-bg-color);\n",
              "    box-shadow: 0 1px 2px rgba(60, 64, 67, 0.3), 0 1px 3px 1px rgba(60, 64, 67, 0.15);\n",
              "    fill: var(--button-hover-fill-color);\n",
              "  }\n",
              "\n",
              "  .colab-df-quickchart-complete:disabled,\n",
              "  .colab-df-quickchart-complete:disabled:hover {\n",
              "    background-color: var(--disabled-bg-color);\n",
              "    fill: var(--disabled-fill-color);\n",
              "    box-shadow: none;\n",
              "  }\n",
              "\n",
              "  .colab-df-spinner {\n",
              "    border: 2px solid var(--fill-color);\n",
              "    border-color: transparent;\n",
              "    border-bottom-color: var(--fill-color);\n",
              "    animation:\n",
              "      spin 1s steps(1) infinite;\n",
              "  }\n",
              "\n",
              "  @keyframes spin {\n",
              "    0% {\n",
              "      border-color: transparent;\n",
              "      border-bottom-color: var(--fill-color);\n",
              "      border-left-color: var(--fill-color);\n",
              "    }\n",
              "    20% {\n",
              "      border-color: transparent;\n",
              "      border-left-color: var(--fill-color);\n",
              "      border-top-color: var(--fill-color);\n",
              "    }\n",
              "    30% {\n",
              "      border-color: transparent;\n",
              "      border-left-color: var(--fill-color);\n",
              "      border-top-color: var(--fill-color);\n",
              "      border-right-color: var(--fill-color);\n",
              "    }\n",
              "    40% {\n",
              "      border-color: transparent;\n",
              "      border-right-color: var(--fill-color);\n",
              "      border-top-color: var(--fill-color);\n",
              "    }\n",
              "    60% {\n",
              "      border-color: transparent;\n",
              "      border-right-color: var(--fill-color);\n",
              "    }\n",
              "    80% {\n",
              "      border-color: transparent;\n",
              "      border-right-color: var(--fill-color);\n",
              "      border-bottom-color: var(--fill-color);\n",
              "    }\n",
              "    90% {\n",
              "      border-color: transparent;\n",
              "      border-bottom-color: var(--fill-color);\n",
              "    }\n",
              "  }\n",
              "</style>\n",
              "\n",
              "  <script>\n",
              "    async function quickchart(key) {\n",
              "      const quickchartButtonEl =\n",
              "        document.querySelector('#' + key + ' button');\n",
              "      quickchartButtonEl.disabled = true;  // To prevent multiple clicks.\n",
              "      quickchartButtonEl.classList.add('colab-df-spinner');\n",
              "      try {\n",
              "        const charts = await google.colab.kernel.invokeFunction(\n",
              "            'suggestCharts', [key], {});\n",
              "      } catch (error) {\n",
              "        console.error('Error during call to suggestCharts:', error);\n",
              "      }\n",
              "      quickchartButtonEl.classList.remove('colab-df-spinner');\n",
              "      quickchartButtonEl.classList.add('colab-df-quickchart-complete');\n",
              "    }\n",
              "    (() => {\n",
              "      let quickchartButtonEl =\n",
              "        document.querySelector('#df-4ea2b103-7c83-4010-934c-19d771a24a33 button');\n",
              "      quickchartButtonEl.style.display =\n",
              "        google.colab.kernel.accessAllowed ? 'block' : 'none';\n",
              "    })();\n",
              "  </script>\n",
              "</div>\n",
              "    </div>\n",
              "  </div>\n"
            ]
          },
          "metadata": {},
          "execution_count": 15
        },
        {
          "output_type": "stream",
          "name": "stdout",
          "text": [
            "Warning: total number of rows (77504) exceeds max_rows (20000). Limiting to first (20000) rows.\n"
          ]
        }
      ]
    },
    {
      "cell_type": "markdown",
      "source": [
        "Unique Transition Types"
      ],
      "metadata": {
        "id": "3JPI3a8WK4TW"
      }
    },
    {
      "cell_type": "code",
      "source": [
        "transition_types = []\n",
        "for i, r in BrowserHistoryJson.iterrows():\n",
        "  transition_types.append((r[0]['page_transition']))\n",
        "unique_transition_type  = set(transition_types)\n",
        "unique_transition_type\n"
      ],
      "metadata": {
        "colab": {
          "base_uri": "https://localhost:8080/"
        },
        "id": "n48qDa14IW47",
        "outputId": "2116a390-fc3f-49e6-ec73-d8f02ece0565"
      },
      "execution_count": 16,
      "outputs": [
        {
          "output_type": "execute_result",
          "data": {
            "text/plain": [
              "{'AUTO_BOOKMARK',\n",
              " 'AUTO_TOPLEVEL',\n",
              " 'FORM_SUBMIT',\n",
              " 'GENERATED',\n",
              " 'LINK',\n",
              " 'RELOAD',\n",
              " 'TYPED'}"
            ]
          },
          "metadata": {},
          "execution_count": 16
        }
      ]
    },
    {
      "cell_type": "code",
      "source": [
        "BrowserHistoryJson['Browser History'][2]\n"
      ],
      "metadata": {
        "colab": {
          "base_uri": "https://localhost:8080/"
        },
        "id": "-TYub85cJG1f",
        "outputId": "06d88c0e-60f6-4e77-9404-66011756165b"
      },
      "execution_count": 17,
      "outputs": [
        {
          "output_type": "execute_result",
          "data": {
            "text/plain": [
              "{'favicon_url': 'https://ssl.gstatic.com/ui/v1/icons/mail/rfr/gmail.ico',\n",
              " 'page_transition': 'TYPED',\n",
              " 'title': 'Gmail',\n",
              " 'url': 'https://mail.google.com/mail/u/0/#inbox',\n",
              " 'client_id': 'kyuHF2sCwM9qXzrDdrs33w==',\n",
              " 'time_usec': 1662671354249329}"
            ]
          },
          "metadata": {},
          "execution_count": 17
        }
      ]
    },
    {
      "cell_type": "markdown",
      "source": [
        "Seperate the search history by transition types"
      ],
      "metadata": {
        "id": "ecNYwEGSSAwN"
      }
    },
    {
      "cell_type": "code",
      "source": [
        "def history_category(json):\n",
        "  categories = {\n",
        "      \"TYPED\": [],\n",
        "      \"LINK\": [],\n",
        "      \"RELOAD\": [],\n",
        "      \"GENERATED\": [],\n",
        "      \"AUTO_TOPLEVEL\": [],\n",
        "      \"AUTO_BOOKMARK\": [],\n",
        "      \"FORM_SUBMIT\": [],\n",
        "  }\n",
        "\n",
        "  for _, row in json.iterrows():\n",
        "    transition = row[0][\"page_transition\"]\n",
        "    categories[transition].append(row[0][\"title\"])\n",
        "\n",
        "  return categories"
      ],
      "metadata": {
        "id": "IvVrkTmSQx74"
      },
      "execution_count": 18,
      "outputs": []
    },
    {
      "cell_type": "code",
      "source": [
        "HistoryCategories = history_category(BrowserHistoryJson)"
      ],
      "metadata": {
        "id": "eAUzW5YuQ4iR"
      },
      "execution_count": 19,
      "outputs": []
    },
    {
      "cell_type": "markdown",
      "source": [
        "sentimental analysis"
      ],
      "metadata": {
        "id": "IurBenQwfJoA"
      }
    },
    {
      "cell_type": "code",
      "source": [
        "from transformers import pipeline\n",
        "\n",
        "classifier = pipeline(\"sentiment-analysis\")"
      ],
      "metadata": {
        "colab": {
          "base_uri": "https://localhost:8080/",
          "height": 180,
          "referenced_widgets": [
            "93ecdd0077e54002a29e244845cddd81",
            "21b9a0401aef4f3388a18bfdd841f5ca",
            "92daa253c6c94549b6612fa4c331c628",
            "b89be325d94a4e4db89d9be0795dae15",
            "fa1c00771f574204adf783e806b86bfe",
            "0de17459c11c4a2b84976db5ef417daf",
            "17b4eedb7ecf42e69ef5fda36cd74f97",
            "86ccc7475afa416aa33f3a0d3d0fd624",
            "32f34ce2142a4529a9effdee4838922c",
            "4af5abd4e3ca421fbc41269e9c434e6f",
            "731074fb0f944372ad643ca60c6c1386",
            "93dc3da460c94c0f88a797aea3c6e893",
            "d2134fe1a10c45f8b770ea9869909bb5",
            "ca2e622f52024550b3debc31c18da643",
            "08037a3c9d2744089e4e38e3834b9551",
            "a9b6564e7a144e1cb6ee69467a27d3a3",
            "235ae895213e4db89536515646441479",
            "069d2299f67b491fad2e2bd268f10d03",
            "6aa9da79f48049119f26e26ac946c1f3",
            "b295c87ac2a74bd2a541577ae2b789ab",
            "07dc04cc5eaa48a7949e1b2b7af3779d",
            "11cb55fd01934a72b664a22027fa04ce",
            "7d9d3f2848d84724b35d24dda54cb255",
            "405fdd2a851348759217e95d8bcdac93",
            "5404f2d32dc94078b6da7f286760d02c",
            "e1392da79e45484ca7c01ac69d9b2e8d",
            "d6990df54f984a66b83c85ffd09e6911",
            "fde6e1623b8242be8decae40e59efa0a",
            "1d71cfa887ce415bbe5ee517a7001714",
            "8ab7e7259b794a658f4c5d3457d6e11d",
            "fca8bee2d6f647858148ac6faaea5162",
            "9677cadbc89a4c33a04f1a0d82d9d2ee",
            "fbfadc06e526401daaff0c2ec08d575c",
            "50977bc7f23e4576b87f53669490a0e1",
            "d384a80e58ca4fdeaf61d1c1b9cc1cad",
            "2f60c97b126647fba450ebf77fee97ef",
            "998c90dd50aa4129a86a5e08d5d1db16",
            "3144d6c0e1394315aeca2bb09a338a36",
            "ba65aac1eac04dd3bde2f922d2f142f8",
            "f03292af1b984194aed64016473098bc",
            "8ebc131cfcdf4419bf14dc5dd615ec3d",
            "dc66552305de4882b31b04b7b1dac86b",
            "2dcfd6be5c694061ac89f5d66cff7cda",
            "4befcba3dc39404bbc2b2ec022a453c5"
          ]
        },
        "id": "61fT96tpRsBy",
        "outputId": "a176d49c-a7a0-4068-9a3a-2ea00acff8c5"
      },
      "execution_count": 20,
      "outputs": [
        {
          "output_type": "stream",
          "name": "stderr",
          "text": [
            "No model was supplied, defaulted to distilbert-base-uncased-finetuned-sst-2-english and revision af0f99b (https://huggingface.co/distilbert-base-uncased-finetuned-sst-2-english).\n",
            "Using a pipeline without specifying a model name and revision in production is not recommended.\n"
          ]
        },
        {
          "output_type": "display_data",
          "data": {
            "text/plain": [
              "Downloading (…)lve/main/config.json:   0%|          | 0.00/629 [00:00<?, ?B/s]"
            ],
            "application/vnd.jupyter.widget-view+json": {
              "version_major": 2,
              "version_minor": 0,
              "model_id": "93ecdd0077e54002a29e244845cddd81"
            }
          },
          "metadata": {}
        },
        {
          "output_type": "display_data",
          "data": {
            "text/plain": [
              "Downloading model.safetensors:   0%|          | 0.00/268M [00:00<?, ?B/s]"
            ],
            "application/vnd.jupyter.widget-view+json": {
              "version_major": 2,
              "version_minor": 0,
              "model_id": "93dc3da460c94c0f88a797aea3c6e893"
            }
          },
          "metadata": {}
        },
        {
          "output_type": "display_data",
          "data": {
            "text/plain": [
              "Downloading (…)okenizer_config.json:   0%|          | 0.00/48.0 [00:00<?, ?B/s]"
            ],
            "application/vnd.jupyter.widget-view+json": {
              "version_major": 2,
              "version_minor": 0,
              "model_id": "7d9d3f2848d84724b35d24dda54cb255"
            }
          },
          "metadata": {}
        },
        {
          "output_type": "display_data",
          "data": {
            "text/plain": [
              "Downloading (…)solve/main/vocab.txt:   0%|          | 0.00/232k [00:00<?, ?B/s]"
            ],
            "application/vnd.jupyter.widget-view+json": {
              "version_major": 2,
              "version_minor": 0,
              "model_id": "50977bc7f23e4576b87f53669490a0e1"
            }
          },
          "metadata": {}
        }
      ]
    },
    {
      "cell_type": "code",
      "source": [
        "def analyzeHistory(target):\n",
        "  results = {\n",
        "      \"TYPED\": [],\n",
        "      \"LINK\": [],\n",
        "      \"RELOAD\": [],\n",
        "      \"GENERATED\": [],\n",
        "      \"AUTO_TOPLEVEL\": [],\n",
        "      \"AUTO_BOOKMARK\": [],\n",
        "      \"FORM_SUBMIT\": []\n",
        "  }\n",
        "\n",
        "  for i in range(len(target['LINK'])):\n",
        "    results['LINK'].append(classifier(target['LINK'][i]))\n",
        "  for i in range(len(target['TYPED'])):\n",
        "    results['TYPED'].append(classifier(target['TYPED'][i]))\n",
        "  for i in range(len(target['RELOAD'])):\n",
        "    results['RELOAD'].append(classifier(target['RELOAD'][i]))\n",
        "  for i in range(len(target['FORM_SUBMIT'])):\n",
        "    results['FORM_SUBMIT'].append(classifier(target['FORM_SUBMIT'][i]))\n",
        "  for i in range(len(target['AUTO_BOOKMARK'])):\n",
        "    results['AUTO_BOOKMARK'].append(classifier(target['AUTO_BOOKMARK'][i]))\n",
        "  for i in range(len(target['AUTO_TOPLEVEL'])):\n",
        "    results['AUTO_TOPLEVEL'].append(classifier(target['AUTO_TOPLEVEL'][i]))\n",
        "\n",
        "  return results\n",
        "HistorySentimentOutput = analyzeHistory(HistoryCategories)"
      ],
      "metadata": {
        "id": "Q_wox3gBLw4i"
      },
      "execution_count": 21,
      "outputs": []
    },
    {
      "cell_type": "code",
      "source": [
        "classifier( HistoryCategories['TYPED'][69])"
      ],
      "metadata": {
        "colab": {
          "base_uri": "https://localhost:8080/"
        },
        "id": "T0H7kAOOTCpA",
        "outputId": "e774f8ae-fe78-49f6-9870-c840b655435b"
      },
      "execution_count": 22,
      "outputs": [
        {
          "output_type": "execute_result",
          "data": {
            "text/plain": [
              "[{'label': 'POSITIVE', 'score': 0.9544402956962585}]"
            ]
          },
          "metadata": {},
          "execution_count": 22
        }
      ]
    },
    {
      "cell_type": "markdown",
      "source": [
        "save the sentimental analysis"
      ],
      "metadata": {
        "id": "6s4iBWuvfMPw"
      }
    },
    {
      "cell_type": "code",
      "source": [
        "import os\n",
        "import json"
      ],
      "metadata": {
        "id": "cWu39Aii7rHv"
      },
      "execution_count": 34,
      "outputs": []
    },
    {
      "cell_type": "code",
      "source": [
        "with open('/content/drive/My Drive/Output/output.json', 'w') as f:\n",
        "  json.dump(HistorySentimentOutput,f)"
      ],
      "metadata": {
        "id": "Ptxh3FcL8Cy5"
      },
      "execution_count": 35,
      "outputs": []
    },
    {
      "cell_type": "code",
      "source": [
        "history_df = pd.DataFrame.from_dict(HistorySentimentOutput, orient = 'index').T"
      ],
      "metadata": {
        "id": "EjRi5KgK8NUs"
      },
      "execution_count": 95,
      "outputs": []
    },
    {
      "cell_type": "code",
      "source": [
        "history_df.head()"
      ],
      "metadata": {
        "colab": {
          "base_uri": "https://localhost:8080/",
          "height": 293
        },
        "id": "4IuIsS9_LWmR",
        "outputId": "84bd58c7-0b0f-4c05-ca07-d6519aff9c7a"
      },
      "execution_count": 45,
      "outputs": [
        {
          "output_type": "execute_result",
          "data": {
            "text/plain": [
              "                                               TYPED  \\\n",
              "0  [{'label': 'NEGATIVE', 'score': 0.979194223880...   \n",
              "1  [{'label': 'NEGATIVE', 'score': 0.896036982536...   \n",
              "2  [{'label': 'POSITIVE', 'score': 0.954440295696...   \n",
              "3  [{'label': 'POSITIVE', 'score': 0.924298644065...   \n",
              "4  [{'label': 'POSITIVE', 'score': 0.954440295696...   \n",
              "\n",
              "                                                LINK  \\\n",
              "0  [{'label': 'POSITIVE', 'score': 0.956062614917...   \n",
              "1  [{'label': 'POSITIVE', 'score': 0.997600495815...   \n",
              "2  [{'label': 'POSITIVE', 'score': 0.956062614917...   \n",
              "3  [{'label': 'POSITIVE', 'score': 0.997600495815...   \n",
              "4  [{'label': 'POSITIVE', 'score': 0.956062614917...   \n",
              "\n",
              "                                              RELOAD GENERATED  \\\n",
              "0  [{'label': 'NEGATIVE', 'score': 0.755213797092...      None   \n",
              "1  [{'label': 'POSITIVE', 'score': 0.934183299541...      None   \n",
              "2  [{'label': 'NEGATIVE', 'score': 0.995899021625...      None   \n",
              "3  [{'label': 'POSITIVE', 'score': 0.934183299541...      None   \n",
              "4  [{'label': 'POSITIVE', 'score': 0.934183299541...      None   \n",
              "\n",
              "                                       AUTO_TOPLEVEL  \\\n",
              "0  [{'label': 'NEGATIVE', 'score': 0.994368612766...   \n",
              "1  [{'label': 'POSITIVE', 'score': 0.954440295696...   \n",
              "2  [{'label': 'POSITIVE', 'score': 0.954440295696...   \n",
              "3  [{'label': 'NEGATIVE', 'score': 0.574124991893...   \n",
              "4  [{'label': 'POSITIVE', 'score': 0.954440295696...   \n",
              "\n",
              "                                       AUTO_BOOKMARK  \\\n",
              "0  [{'label': 'POSITIVE', 'score': 0.996454238891...   \n",
              "1  [{'label': 'POSITIVE', 'score': 0.996454238891...   \n",
              "2  [{'label': 'NEGATIVE', 'score': 0.994487226009...   \n",
              "3  [{'label': 'POSITIVE', 'score': 0.996454238891...   \n",
              "4  [{'label': 'POSITIVE', 'score': 0.996454238891...   \n",
              "\n",
              "                                         FORM_SUBMIT  \n",
              "0  [{'label': 'NEGATIVE', 'score': 0.991980552673...  \n",
              "1  [{'label': 'POSITIVE', 'score': 0.751243293285...  \n",
              "2  [{'label': 'NEGATIVE', 'score': 0.926731228828...  \n",
              "3  [{'label': 'NEGATIVE', 'score': 0.926731228828...  \n",
              "4  [{'label': 'NEGATIVE', 'score': 0.856525182723...  "
            ],
            "text/html": [
              "\n",
              "  <div id=\"df-f2c25b7b-2112-4c9e-a598-0f2bd46c9d99\" class=\"colab-df-container\">\n",
              "    <div>\n",
              "<style scoped>\n",
              "    .dataframe tbody tr th:only-of-type {\n",
              "        vertical-align: middle;\n",
              "    }\n",
              "\n",
              "    .dataframe tbody tr th {\n",
              "        vertical-align: top;\n",
              "    }\n",
              "\n",
              "    .dataframe thead th {\n",
              "        text-align: right;\n",
              "    }\n",
              "</style>\n",
              "<table border=\"1\" class=\"dataframe\">\n",
              "  <thead>\n",
              "    <tr style=\"text-align: right;\">\n",
              "      <th></th>\n",
              "      <th>TYPED</th>\n",
              "      <th>LINK</th>\n",
              "      <th>RELOAD</th>\n",
              "      <th>GENERATED</th>\n",
              "      <th>AUTO_TOPLEVEL</th>\n",
              "      <th>AUTO_BOOKMARK</th>\n",
              "      <th>FORM_SUBMIT</th>\n",
              "    </tr>\n",
              "  </thead>\n",
              "  <tbody>\n",
              "    <tr>\n",
              "      <th>0</th>\n",
              "      <td>[{'label': 'NEGATIVE', 'score': 0.979194223880...</td>\n",
              "      <td>[{'label': 'POSITIVE', 'score': 0.956062614917...</td>\n",
              "      <td>[{'label': 'NEGATIVE', 'score': 0.755213797092...</td>\n",
              "      <td>None</td>\n",
              "      <td>[{'label': 'NEGATIVE', 'score': 0.994368612766...</td>\n",
              "      <td>[{'label': 'POSITIVE', 'score': 0.996454238891...</td>\n",
              "      <td>[{'label': 'NEGATIVE', 'score': 0.991980552673...</td>\n",
              "    </tr>\n",
              "    <tr>\n",
              "      <th>1</th>\n",
              "      <td>[{'label': 'NEGATIVE', 'score': 0.896036982536...</td>\n",
              "      <td>[{'label': 'POSITIVE', 'score': 0.997600495815...</td>\n",
              "      <td>[{'label': 'POSITIVE', 'score': 0.934183299541...</td>\n",
              "      <td>None</td>\n",
              "      <td>[{'label': 'POSITIVE', 'score': 0.954440295696...</td>\n",
              "      <td>[{'label': 'POSITIVE', 'score': 0.996454238891...</td>\n",
              "      <td>[{'label': 'POSITIVE', 'score': 0.751243293285...</td>\n",
              "    </tr>\n",
              "    <tr>\n",
              "      <th>2</th>\n",
              "      <td>[{'label': 'POSITIVE', 'score': 0.954440295696...</td>\n",
              "      <td>[{'label': 'POSITIVE', 'score': 0.956062614917...</td>\n",
              "      <td>[{'label': 'NEGATIVE', 'score': 0.995899021625...</td>\n",
              "      <td>None</td>\n",
              "      <td>[{'label': 'POSITIVE', 'score': 0.954440295696...</td>\n",
              "      <td>[{'label': 'NEGATIVE', 'score': 0.994487226009...</td>\n",
              "      <td>[{'label': 'NEGATIVE', 'score': 0.926731228828...</td>\n",
              "    </tr>\n",
              "    <tr>\n",
              "      <th>3</th>\n",
              "      <td>[{'label': 'POSITIVE', 'score': 0.924298644065...</td>\n",
              "      <td>[{'label': 'POSITIVE', 'score': 0.997600495815...</td>\n",
              "      <td>[{'label': 'POSITIVE', 'score': 0.934183299541...</td>\n",
              "      <td>None</td>\n",
              "      <td>[{'label': 'NEGATIVE', 'score': 0.574124991893...</td>\n",
              "      <td>[{'label': 'POSITIVE', 'score': 0.996454238891...</td>\n",
              "      <td>[{'label': 'NEGATIVE', 'score': 0.926731228828...</td>\n",
              "    </tr>\n",
              "    <tr>\n",
              "      <th>4</th>\n",
              "      <td>[{'label': 'POSITIVE', 'score': 0.954440295696...</td>\n",
              "      <td>[{'label': 'POSITIVE', 'score': 0.956062614917...</td>\n",
              "      <td>[{'label': 'POSITIVE', 'score': 0.934183299541...</td>\n",
              "      <td>None</td>\n",
              "      <td>[{'label': 'POSITIVE', 'score': 0.954440295696...</td>\n",
              "      <td>[{'label': 'POSITIVE', 'score': 0.996454238891...</td>\n",
              "      <td>[{'label': 'NEGATIVE', 'score': 0.856525182723...</td>\n",
              "    </tr>\n",
              "  </tbody>\n",
              "</table>\n",
              "</div>\n",
              "    <div class=\"colab-df-buttons\">\n",
              "\n",
              "  <div class=\"colab-df-container\">\n",
              "    <button class=\"colab-df-convert\" onclick=\"convertToInteractive('df-f2c25b7b-2112-4c9e-a598-0f2bd46c9d99')\"\n",
              "            title=\"Convert this dataframe to an interactive table.\"\n",
              "            style=\"display:none;\">\n",
              "\n",
              "  <svg xmlns=\"http://www.w3.org/2000/svg\" height=\"24px\" viewBox=\"0 -960 960 960\">\n",
              "    <path d=\"M120-120v-720h720v720H120Zm60-500h600v-160H180v160Zm220 220h160v-160H400v160Zm0 220h160v-160H400v160ZM180-400h160v-160H180v160Zm440 0h160v-160H620v160ZM180-180h160v-160H180v160Zm440 0h160v-160H620v160Z\"/>\n",
              "  </svg>\n",
              "    </button>\n",
              "\n",
              "  <style>\n",
              "    .colab-df-container {\n",
              "      display:flex;\n",
              "      gap: 12px;\n",
              "    }\n",
              "\n",
              "    .colab-df-convert {\n",
              "      background-color: #E8F0FE;\n",
              "      border: none;\n",
              "      border-radius: 50%;\n",
              "      cursor: pointer;\n",
              "      display: none;\n",
              "      fill: #1967D2;\n",
              "      height: 32px;\n",
              "      padding: 0 0 0 0;\n",
              "      width: 32px;\n",
              "    }\n",
              "\n",
              "    .colab-df-convert:hover {\n",
              "      background-color: #E2EBFA;\n",
              "      box-shadow: 0px 1px 2px rgba(60, 64, 67, 0.3), 0px 1px 3px 1px rgba(60, 64, 67, 0.15);\n",
              "      fill: #174EA6;\n",
              "    }\n",
              "\n",
              "    .colab-df-buttons div {\n",
              "      margin-bottom: 4px;\n",
              "    }\n",
              "\n",
              "    [theme=dark] .colab-df-convert {\n",
              "      background-color: #3B4455;\n",
              "      fill: #D2E3FC;\n",
              "    }\n",
              "\n",
              "    [theme=dark] .colab-df-convert:hover {\n",
              "      background-color: #434B5C;\n",
              "      box-shadow: 0px 1px 3px 1px rgba(0, 0, 0, 0.15);\n",
              "      filter: drop-shadow(0px 1px 2px rgba(0, 0, 0, 0.3));\n",
              "      fill: #FFFFFF;\n",
              "    }\n",
              "  </style>\n",
              "\n",
              "    <script>\n",
              "      const buttonEl =\n",
              "        document.querySelector('#df-f2c25b7b-2112-4c9e-a598-0f2bd46c9d99 button.colab-df-convert');\n",
              "      buttonEl.style.display =\n",
              "        google.colab.kernel.accessAllowed ? 'block' : 'none';\n",
              "\n",
              "      async function convertToInteractive(key) {\n",
              "        const element = document.querySelector('#df-f2c25b7b-2112-4c9e-a598-0f2bd46c9d99');\n",
              "        const dataTable =\n",
              "          await google.colab.kernel.invokeFunction('convertToInteractive',\n",
              "                                                    [key], {});\n",
              "        if (!dataTable) return;\n",
              "\n",
              "        const docLinkHtml = 'Like what you see? Visit the ' +\n",
              "          '<a target=\"_blank\" href=https://colab.research.google.com/notebooks/data_table.ipynb>data table notebook</a>'\n",
              "          + ' to learn more about interactive tables.';\n",
              "        element.innerHTML = '';\n",
              "        dataTable['output_type'] = 'display_data';\n",
              "        await google.colab.output.renderOutput(dataTable, element);\n",
              "        const docLink = document.createElement('div');\n",
              "        docLink.innerHTML = docLinkHtml;\n",
              "        element.appendChild(docLink);\n",
              "      }\n",
              "    </script>\n",
              "  </div>\n",
              "\n",
              "\n",
              "<div id=\"df-39b2dc4c-0766-4a00-a783-8be83d1064ba\">\n",
              "  <button class=\"colab-df-quickchart\" onclick=\"quickchart('df-39b2dc4c-0766-4a00-a783-8be83d1064ba')\"\n",
              "            title=\"Suggest charts.\"\n",
              "            style=\"display:none;\">\n",
              "\n",
              "<svg xmlns=\"http://www.w3.org/2000/svg\" height=\"24px\"viewBox=\"0 0 24 24\"\n",
              "     width=\"24px\">\n",
              "    <g>\n",
              "        <path d=\"M19 3H5c-1.1 0-2 .9-2 2v14c0 1.1.9 2 2 2h14c1.1 0 2-.9 2-2V5c0-1.1-.9-2-2-2zM9 17H7v-7h2v7zm4 0h-2V7h2v10zm4 0h-2v-4h2v4z\"/>\n",
              "    </g>\n",
              "</svg>\n",
              "  </button>\n",
              "\n",
              "<style>\n",
              "  .colab-df-quickchart {\n",
              "      --bg-color: #E8F0FE;\n",
              "      --fill-color: #1967D2;\n",
              "      --hover-bg-color: #E2EBFA;\n",
              "      --hover-fill-color: #174EA6;\n",
              "      --disabled-fill-color: #AAA;\n",
              "      --disabled-bg-color: #DDD;\n",
              "  }\n",
              "\n",
              "  [theme=dark] .colab-df-quickchart {\n",
              "      --bg-color: #3B4455;\n",
              "      --fill-color: #D2E3FC;\n",
              "      --hover-bg-color: #434B5C;\n",
              "      --hover-fill-color: #FFFFFF;\n",
              "      --disabled-bg-color: #3B4455;\n",
              "      --disabled-fill-color: #666;\n",
              "  }\n",
              "\n",
              "  .colab-df-quickchart {\n",
              "    background-color: var(--bg-color);\n",
              "    border: none;\n",
              "    border-radius: 50%;\n",
              "    cursor: pointer;\n",
              "    display: none;\n",
              "    fill: var(--fill-color);\n",
              "    height: 32px;\n",
              "    padding: 0;\n",
              "    width: 32px;\n",
              "  }\n",
              "\n",
              "  .colab-df-quickchart:hover {\n",
              "    background-color: var(--hover-bg-color);\n",
              "    box-shadow: 0 1px 2px rgba(60, 64, 67, 0.3), 0 1px 3px 1px rgba(60, 64, 67, 0.15);\n",
              "    fill: var(--button-hover-fill-color);\n",
              "  }\n",
              "\n",
              "  .colab-df-quickchart-complete:disabled,\n",
              "  .colab-df-quickchart-complete:disabled:hover {\n",
              "    background-color: var(--disabled-bg-color);\n",
              "    fill: var(--disabled-fill-color);\n",
              "    box-shadow: none;\n",
              "  }\n",
              "\n",
              "  .colab-df-spinner {\n",
              "    border: 2px solid var(--fill-color);\n",
              "    border-color: transparent;\n",
              "    border-bottom-color: var(--fill-color);\n",
              "    animation:\n",
              "      spin 1s steps(1) infinite;\n",
              "  }\n",
              "\n",
              "  @keyframes spin {\n",
              "    0% {\n",
              "      border-color: transparent;\n",
              "      border-bottom-color: var(--fill-color);\n",
              "      border-left-color: var(--fill-color);\n",
              "    }\n",
              "    20% {\n",
              "      border-color: transparent;\n",
              "      border-left-color: var(--fill-color);\n",
              "      border-top-color: var(--fill-color);\n",
              "    }\n",
              "    30% {\n",
              "      border-color: transparent;\n",
              "      border-left-color: var(--fill-color);\n",
              "      border-top-color: var(--fill-color);\n",
              "      border-right-color: var(--fill-color);\n",
              "    }\n",
              "    40% {\n",
              "      border-color: transparent;\n",
              "      border-right-color: var(--fill-color);\n",
              "      border-top-color: var(--fill-color);\n",
              "    }\n",
              "    60% {\n",
              "      border-color: transparent;\n",
              "      border-right-color: var(--fill-color);\n",
              "    }\n",
              "    80% {\n",
              "      border-color: transparent;\n",
              "      border-right-color: var(--fill-color);\n",
              "      border-bottom-color: var(--fill-color);\n",
              "    }\n",
              "    90% {\n",
              "      border-color: transparent;\n",
              "      border-bottom-color: var(--fill-color);\n",
              "    }\n",
              "  }\n",
              "</style>\n",
              "\n",
              "  <script>\n",
              "    async function quickchart(key) {\n",
              "      const quickchartButtonEl =\n",
              "        document.querySelector('#' + key + ' button');\n",
              "      quickchartButtonEl.disabled = true;  // To prevent multiple clicks.\n",
              "      quickchartButtonEl.classList.add('colab-df-spinner');\n",
              "      try {\n",
              "        const charts = await google.colab.kernel.invokeFunction(\n",
              "            'suggestCharts', [key], {});\n",
              "      } catch (error) {\n",
              "        console.error('Error during call to suggestCharts:', error);\n",
              "      }\n",
              "      quickchartButtonEl.classList.remove('colab-df-spinner');\n",
              "      quickchartButtonEl.classList.add('colab-df-quickchart-complete');\n",
              "    }\n",
              "    (() => {\n",
              "      let quickchartButtonEl =\n",
              "        document.querySelector('#df-39b2dc4c-0766-4a00-a783-8be83d1064ba button');\n",
              "      quickchartButtonEl.style.display =\n",
              "        google.colab.kernel.accessAllowed ? 'block' : 'none';\n",
              "    })();\n",
              "  </script>\n",
              "</div>\n",
              "    </div>\n",
              "  </div>\n"
            ]
          },
          "metadata": {},
          "execution_count": 45
        }
      ]
    },
    {
      "cell_type": "code",
      "source": [
        "history_df['LINK'][i][0]"
      ],
      "metadata": {
        "colab": {
          "base_uri": "https://localhost:8080/"
        },
        "id": "DPjvntFANIJc",
        "outputId": "9438771a-eeb9-4450-a2c4-ba34bfa0873e"
      },
      "execution_count": 76,
      "outputs": [
        {
          "output_type": "execute_result",
          "data": {
            "text/plain": [
              "{'label': 'NEGATIVE', 'score': 0.7733840942382812}"
            ]
          },
          "metadata": {},
          "execution_count": 76
        }
      ]
    },
    {
      "cell_type": "markdown",
      "source": [
        "Check the score\n"
      ],
      "metadata": {
        "id": "ol_kTDT7fEYv"
      }
    },
    {
      "cell_type": "code",
      "source": [
        "sum = 0\n",
        "for i in range(len(history_df['TYPED'])):\n",
        "    try:\n",
        "        sum += history_df['TYPED'][i][0]['score']\n",
        "    except TypeError:\n",
        "        pass"
      ],
      "metadata": {
        "id": "yCrd7HOROld0"
      },
      "execution_count": 65,
      "outputs": []
    },
    {
      "cell_type": "code",
      "source": [
        "def averageSentimentScore(df):\n",
        "  count = 0\n",
        "  sum = 0\n",
        "  for i in range(len(history_df['TYPED'])):\n",
        "    try:\n",
        "        count += 1\n",
        "        sum += history_df['TYPED'][i][0]['score']\n",
        "    except TypeError:\n",
        "        pass\n",
        "    return sum/count"
      ],
      "metadata": {
        "id": "bGPu1QmRPuGd"
      },
      "execution_count": 70,
      "outputs": []
    },
    {
      "cell_type": "code",
      "source": [
        "averageTypedScore = averageSentimentScore(history_df)\n",
        "averageTypedScore\n"
      ],
      "metadata": {
        "colab": {
          "base_uri": "https://localhost:8080/"
        },
        "id": "7gatnQOKQMlc",
        "outputId": "f11917d1-4ea9-4d9a-81dd-7b2a0135bf4e"
      },
      "execution_count": 71,
      "outputs": [
        {
          "output_type": "execute_result",
          "data": {
            "text/plain": [
              "0.9791942238807678"
            ]
          },
          "metadata": {},
          "execution_count": 71
        }
      ]
    },
    {
      "cell_type": "markdown",
      "source": [
        "Check the negative score and positive score"
      ],
      "metadata": {
        "id": "bTmmwNCDe2g0"
      }
    },
    {
      "cell_type": "code",
      "source": [
        "def averageSentimentLINKScore(df):\n",
        "  negCount = 0\n",
        "  posCount = 0\n",
        "  negScore = 0\n",
        "  posScore = 0\n",
        "\n",
        "  for i in range(len(history_df['LINK'])):\n",
        "    try:\n",
        "        if history_df['LINK'][i][0]['label'] == 'NEGATIVE':\n",
        "          negCount += 1\n",
        "          negScore += history_df['LINK'][i][0]['score']\n",
        "        elif history_df['LINK'][i][0]['label'] == 'POSITIVE':\n",
        "          posCount += 1\n",
        "          posScore += history_df['LINK'][i][0]['score']\n",
        "    except TypeError:\n",
        "        pass\n",
        "\n",
        "  return [negScore/negCount, negCount], [posScore/posCount, posCount]"
      ],
      "metadata": {
        "id": "FBgYwPGuQjp1"
      },
      "execution_count": 83,
      "outputs": []
    },
    {
      "cell_type": "code",
      "source": [
        "averageLINKNegScore, averageLINKPosScore = averageSentimentLINKScore(history_df)\n",
        "print(averageLINKNegScore, averageLINKPosScore)"
      ],
      "metadata": {
        "colab": {
          "base_uri": "https://localhost:8080/"
        },
        "id": "mY-LtjhPQ2Q6",
        "outputId": "4ce7ca18-33f9-4641-9087-902ceab4b58b"
      },
      "execution_count": 87,
      "outputs": [
        {
          "output_type": "stream",
          "name": "stdout",
          "text": [
            "[0.9037449823317507, 30359] [0.8955237227977119, 19468]\n"
          ]
        }
      ]
    },
    {
      "cell_type": "markdown",
      "source": [
        "# **I experiment with the data in the above cells, but it didn't behave the way I want it to be. I might use the scores as a way to create my own randomness**"
      ],
      "metadata": {
        "id": "sUWsu0mKqtKl"
      }
    },
    {
      "cell_type": "markdown",
      "source": [
        "Load in Instagram messages"
      ],
      "metadata": {
        "id": "Fguq6KYxfaN1"
      }
    },
    {
      "cell_type": "markdown",
      "source": [
        "Chat History"
      ],
      "metadata": {
        "id": "u3ZcdizjnbhL"
      }
    },
    {
      "cell_type": "code",
      "source": [
        "path = {\n",
        "    'park' :'/content/drive/MyDrive/midterm/davidp/message_1.json',\n",
        "    'gil': '/content/drive/MyDrive/midterm/gilbertkolosieke/message_1.json',\n",
        "    'mag': '/content/drive/MyDrive/midterm/magdaleneshan/message_1.json',\n",
        "    'avi': '/content/drive/MyDrive/midterm/Takeout2/avi/message_1.json',\n",
        "    'ch': '/content/drive/MyDrive/midterm/Takeout2/ch/message_1.json',\n",
        "    'nu': '/content/drive/MyDrive/midterm/Takeout2/nu/message_1.json'\n",
        "}"
      ],
      "metadata": {
        "id": "KTGCrsBVmQnM"
      },
      "execution_count": 148,
      "outputs": []
    },
    {
      "cell_type": "markdown",
      "source": [
        "# **Don't know how to write this more efficently, but repeat the code 5 times**"
      ],
      "metadata": {
        "id": "xmIcm6cIrMJm"
      }
    },
    {
      "cell_type": "code",
      "source": [
        "with open(path['park']) as json_data:\n",
        "  data = json.load(json_data)\n",
        "  park_df = pd.DataFrame(data['messages'])"
      ],
      "metadata": {
        "id": "bRoF2T2QlyDO"
      },
      "execution_count": 149,
      "outputs": []
    },
    {
      "cell_type": "code",
      "source": [
        "with open(path['avi']) as json_data:\n",
        "  data = json.load(json_data)\n",
        "  avi_df = pd.DataFrame(data['messages'])"
      ],
      "metadata": {
        "id": "sIlf-rOhqFJh"
      },
      "execution_count": 162,
      "outputs": []
    },
    {
      "cell_type": "code",
      "source": [
        "with open(path['gil']) as json_data:\n",
        "  data = json.load(json_data)\n",
        "  gil_df = pd.DataFrame(data['messages'])"
      ],
      "metadata": {
        "id": "fQrLf1Z3sNTA"
      },
      "execution_count": 156,
      "outputs": []
    },
    {
      "cell_type": "code",
      "source": [
        "with open(path['ch']) as json_data:\n",
        "  data = json.load(json_data)\n",
        "  ch_df = pd.DataFrame(data['messages'])"
      ],
      "metadata": {
        "id": "PL2WCGIWsQLN"
      },
      "execution_count": 155,
      "outputs": []
    },
    {
      "cell_type": "code",
      "source": [
        "with open(path['nu']) as json_data:\n",
        "  data = json.load(json_data)\n",
        "  nu_df = pd.DataFrame(data['messages'])"
      ],
      "metadata": {
        "id": "zkKWKWdksVyj"
      },
      "execution_count": 160,
      "outputs": []
    },
    {
      "cell_type": "code",
      "source": [
        "with open(path['mag']) as json_data:\n",
        "  data = json.load(json_data)\n",
        "  mag_df = pd.DataFrame(data['messages'])"
      ],
      "metadata": {
        "id": "69a9GtaWsaa9"
      },
      "execution_count": 157,
      "outputs": []
    },
    {
      "cell_type": "markdown",
      "source": [
        "Process Data"
      ],
      "metadata": {
        "id": "fnv-Fql2si3i"
      }
    },
    {
      "cell_type": "code",
      "source": [
        "list_chat_history = [park_df, avi_df, gil_df, ch_df, nu_df, ma]"
      ],
      "metadata": {
        "id": "WumeU2zDvLur"
      },
      "execution_count": 177,
      "outputs": []
    },
    {
      "cell_type": "markdown",
      "source": [
        "Sentiment Analysis + collect all chat"
      ],
      "metadata": {
        "id": "QbNGIhJcwvkM"
      }
    },
    {
      "cell_type": "code",
      "source": [
        "my_response = []\n",
        "\n",
        "for i in list_chat_history:\n",
        "  for j in range(len(i[i['sender_name'] == 'Li Zelong']['content'])):\n",
        "   my_response.append(i[i['sender_name'] == 'Li Zelong']['content'].iloc[j])"
      ],
      "metadata": {
        "colab": {
          "base_uri": "https://localhost:8080/"
        },
        "id": "hNuRqujqsm6W",
        "outputId": "6f3bbda3-8b7c-414b-ac7c-93f8c62781be"
      },
      "execution_count": 189,
      "outputs": [
        {
          "output_type": "execute_result",
          "data": {
            "text/plain": [
              "664"
            ]
          },
          "metadata": {},
          "execution_count": 189
        }
      ]
    },
    {
      "cell_type": "code",
      "source": [
        "classifier(my_response[1])[0]"
      ],
      "metadata": {
        "colab": {
          "base_uri": "https://localhost:8080/"
        },
        "id": "AdffEgpq020z",
        "outputId": "80dc1684-5e1b-4c19-8da6-bdb8615b3e8f"
      },
      "execution_count": 216,
      "outputs": [
        {
          "output_type": "execute_result",
          "data": {
            "text/plain": [
              "{'label': 'POSITIVE', 'score': 0.999863862991333}"
            ]
          },
          "metadata": {},
          "execution_count": 216
        }
      ]
    },
    {
      "cell_type": "code",
      "source": [
        "def response_sentiment(my_response):\n",
        "  negCount = 0\n",
        "  posCount = 0\n",
        "  negScore = 0\n",
        "  posScore = 0\n",
        "\n",
        "  for i in my_response:\n",
        "    try:\n",
        "      if classifier(i)[0]['label'] == 'NEGATIVE':\n",
        "        negCount += 1\n",
        "        negScore += classifier(i)[0]['score']\n",
        "      elif classifier(i)[0]['label'] == 'POSITIVE':\n",
        "        posCount += 1\n",
        "        posScore += classifier(i)[0]['score']\n",
        "\n",
        "    except ValueError:\n",
        "      pass\n",
        "  return [negScore/negCount, negCount], [posScore/posCount, posCount]"
      ],
      "metadata": {
        "id": "68g5pe_Fyn4F"
      },
      "execution_count": 221,
      "outputs": []
    },
    {
      "cell_type": "code",
      "source": [
        "response_score = response_sentiment(my_response)"
      ],
      "metadata": {
        "id": "mVdmje_dzFOa"
      },
      "execution_count": 222,
      "outputs": []
    },
    {
      "cell_type": "markdown",
      "source": [
        "My Interests collected by Instagram"
      ],
      "metadata": {
        "id": "7c9RjNJhne3B"
      }
    },
    {
      "cell_type": "code",
      "source": [
        "with open('/content/drive/MyDrive/midterm/Takeout2/infoAbout/ads_interests.json') as json_data:\n",
        "  data = json.load(json_data)\n",
        "  interests_df = pd.DataFrame(data['inferred_data_ig_interest'])"
      ],
      "metadata": {
        "id": "njpPIMTmk68a"
      },
      "execution_count": 174,
      "outputs": []
    },
    {
      "cell_type": "code",
      "source": [],
      "metadata": {
        "id": "k7m3z54rnu8b"
      },
      "execution_count": 144,
      "outputs": []
    },
    {
      "cell_type": "code",
      "source": [
        "interests_df.iloc[1][2]['Interest']['value']"
      ],
      "metadata": {
        "colab": {
          "base_uri": "https://localhost:8080/",
          "height": 35
        },
        "id": "ufNoL7rpn_2L",
        "outputId": "7f1039f0-3845-477a-c689-299260494c64"
      },
      "execution_count": 135,
      "outputs": [
        {
          "output_type": "execute_result",
          "data": {
            "text/plain": [
              "'Boho-chic'"
            ],
            "application/vnd.google.colaboratory.intrinsic+json": {
              "type": "string"
            }
          },
          "metadata": {},
          "execution_count": 135
        }
      ]
    },
    {
      "cell_type": "markdown",
      "source": [
        "Collect in a list"
      ],
      "metadata": {
        "id": "qZMdIDLw199a"
      }
    },
    {
      "cell_type": "code",
      "source": [
        "my_interest_list = []\n",
        "\n",
        "\n",
        "for _, r in interests_df.iterrows():\n",
        "  my_interest_list.append(r['string_map_data']['Interest']['value'])"
      ],
      "metadata": {
        "id": "usQMjlDHoHw8"
      },
      "execution_count": 144,
      "outputs": []
    },
    {
      "cell_type": "markdown",
      "source": [
        "**Clean up the data**"
      ],
      "metadata": {
        "id": "N9lnBDfn7c4P"
      }
    },
    {
      "cell_type": "code",
      "source": [
        "len(my_response[6])"
      ],
      "metadata": {
        "colab": {
          "base_uri": "https://localhost:8080/"
        },
        "id": "5oN2jEnj_2CJ",
        "outputId": "1fba657e-5e3c-478b-d82f-e13eea1c8067"
      },
      "execution_count": 263,
      "outputs": [
        {
          "output_type": "execute_result",
          "data": {
            "text/plain": [
              "8"
            ]
          },
          "metadata": {},
          "execution_count": 263
        }
      ]
    },
    {
      "cell_type": "markdown",
      "source": [
        "Remove non-english character due to converting error"
      ],
      "metadata": {
        "id": "0sGjrSmJG8dv"
      }
    },
    {
      "cell_type": "code",
      "source": [
        "def is_english(c):\n",
        "  ascii_value = ord(c)\n",
        "  if (ascii_value >= 65 and ascii_value <= 90):\n",
        "    return True\n",
        "  elif (ascii_value >= 97 and ascii_value <= 122):\n",
        "    return True\n",
        "  elif c ==  ' ':\n",
        "    return True\n",
        "  elif c == '':\n",
        "    return False\n",
        "\n",
        "def remove_non_english(lst):\n",
        "  output = []\n",
        "  for s in lst:\n",
        "    english_str = \"\"\n",
        "    for c in s:\n",
        "      if is_english(c) == True:\n",
        "        english_str += c\n",
        "      else:\n",
        "        pass\n",
        "    output.append(english_str)\n",
        "  return output\n",
        "\n",
        "cleaned_response = remove_non_english(my_response)"
      ],
      "metadata": {
        "id": "RiN1LjGk9aaZ"
      },
      "execution_count": 286,
      "outputs": []
    },
    {
      "cell_type": "markdown",
      "source": [
        "# **Train the model**"
      ],
      "metadata": {
        "id": "tSDQg43f2TGp"
      }
    },
    {
      "cell_type": "code",
      "source": [
        "from transformers import AutoModelForCausalLM\n"
      ],
      "metadata": {
        "id": "hVBYnbi337do"
      },
      "execution_count": 231,
      "outputs": []
    },
    {
      "cell_type": "code",
      "source": [
        "from transformers import AutoTokenizer"
      ],
      "metadata": {
        "id": "yweI1n_y27aO"
      },
      "execution_count": 228,
      "outputs": []
    },
    {
      "cell_type": "code",
      "source": [
        "pip install accelerate -U"
      ],
      "metadata": {
        "colab": {
          "base_uri": "https://localhost:8080/"
        },
        "id": "EWTmernRR0Qm",
        "outputId": "8d9b03a0-2276-434e-bd04-e55b18bf8140"
      },
      "execution_count": 336,
      "outputs": [
        {
          "output_type": "stream",
          "name": "stdout",
          "text": [
            "Installing collected packages: accelerate\n",
            "Successfully installed accelerate-0.23.0\n"
          ]
        }
      ]
    },
    {
      "cell_type": "code",
      "source": [
        "from transformers import Trainer, TrainingArguments"
      ],
      "metadata": {
        "id": "L1G5XkjxpHjD"
      },
      "execution_count": 235,
      "outputs": []
    },
    {
      "cell_type": "code",
      "source": [
        "import datasets"
      ],
      "metadata": {
        "id": "wi4PXErK5HWB"
      },
      "execution_count": 238,
      "outputs": []
    },
    {
      "cell_type": "code",
      "source": [
        "generator = pipeline('text-generation', model=model, tokenizer=tokenizer)"
      ],
      "metadata": {
        "id": "nTtefMZX4Dks"
      },
      "execution_count": 278,
      "outputs": []
    },
    {
      "cell_type": "code",
      "source": [
        "pip install tensorflow"
      ],
      "metadata": {
        "id": "y7OCezsnJNdc"
      },
      "execution_count": null,
      "outputs": []
    },
    {
      "cell_type": "code",
      "source": [
        "with open('/content/drive/MyDrive/Output/response.txt', 'w') as f:\n",
        "  for i in cleaned_response:\n",
        "    f.write(i + '\\n ')\n"
      ],
      "metadata": {
        "id": "iMyRy-eVKQsZ"
      },
      "execution_count": 299,
      "outputs": []
    },
    {
      "cell_type": "code",
      "source": [
        "from transformers import BertConfig, BertModel"
      ],
      "metadata": {
        "id": "MvB2aLu6YZ5g"
      },
      "execution_count": 369,
      "outputs": []
    },
    {
      "cell_type": "code",
      "source": [
        "\n",
        "from datasets import load_dataset"
      ],
      "metadata": {
        "id": "yjHIpHE1LtRP"
      },
      "execution_count": 317,
      "outputs": []
    },
    {
      "cell_type": "code",
      "source": [
        "training_data = datasets.load_dataset('text', data_files= 'drive/MyDrive/Output/response.txt' )"
      ],
      "metadata": {
        "id": "OnAiTuFj2WRK"
      },
      "execution_count": 378,
      "outputs": []
    },
    {
      "cell_type": "markdown",
      "source": [
        "# **Installed**"
      ],
      "metadata": {
        "id": "3_pBIVphpSCK"
      }
    },
    {
      "cell_type": "code",
      "source": [
        "tokenizer.pad_token = tokenizer.eos_token\n",
        "\n",
        "tokenized_training_data = training_data.map(lambda x: tokenizer(x['text']), remove_columns=[\"text\"])"
      ],
      "metadata": {
        "colab": {
          "base_uri": "https://localhost:8080/",
          "height": 49,
          "referenced_widgets": [
            "4147181c650449eca33cb779067cae5c",
            "c304a7d242de4d229320faf67ed19cf5",
            "837003b796b8493abd601a12b982bc54",
            "0f65946f783a4839bf9bb41da520ccef",
            "c6af58529a0e49418c544974f4b23327",
            "c8012ce2ec334defa0c4794010ac1593",
            "e3868ddcdcdd454bb382a6e2b4865d3b",
            "13861d9aa0184aa6a6b5c09af93b99eb",
            "58a1e64f2d7d40ee893bcd0c15d02563",
            "8fd3fcb2b6ab408aa31a7546b987b4bc",
            "1be812b21a0d40bd863b883625540d79"
          ]
        },
        "id": "5Wt48X-aJeth",
        "outputId": "5ddb1ddc-f356-430f-ec93-aaf5c1efb8a3"
      },
      "execution_count": 474,
      "outputs": [
        {
          "output_type": "display_data",
          "data": {
            "text/plain": [
              "Map:   0%|          | 0/665 [00:00<?, ? examples/s]"
            ],
            "application/vnd.jupyter.widget-view+json": {
              "version_major": 2,
              "version_minor": 0,
              "model_id": "4147181c650449eca33cb779067cae5c"
            }
          },
          "metadata": {}
        }
      ]
    },
    {
      "cell_type": "code",
      "source": [
        "tf_batch = tokenizer(\n",
        "    cleaned_response,\n",
        "    padding=True,\n",
        "    truncation=True,\n",
        "    max_length=512,\n",
        "    return_tensors=\"tf\",\n",
        "    is_split_into_words=False\n",
        ")"
      ],
      "metadata": {
        "id": "SRCffDr6IoUT"
      },
      "execution_count": 475,
      "outputs": []
    },
    {
      "cell_type": "code",
      "source": [
        "tokenizer = AutoTokenizer.from_pretrained('distilgpt2')\n",
        "tf_model = AutoModelForCausalLM.from_pretrained('distilgpt2')"
      ],
      "metadata": {
        "id": "fm5yuUUneAX4"
      },
      "execution_count": 427,
      "outputs": []
    },
    {
      "cell_type": "code",
      "source": [
        "tf_model"
      ],
      "metadata": {
        "colab": {
          "base_uri": "https://localhost:8080/"
        },
        "id": "86OYVF7bQx1E",
        "outputId": "6f44ffa8-3598-4e6e-ebbd-4f8ce5636340"
      },
      "execution_count": 428,
      "outputs": [
        {
          "output_type": "execute_result",
          "data": {
            "text/plain": [
              "GPT2LMHeadModel(\n",
              "  (transformer): GPT2Model(\n",
              "    (wte): Embedding(50257, 768)\n",
              "    (wpe): Embedding(1024, 768)\n",
              "    (drop): Dropout(p=0.1, inplace=False)\n",
              "    (h): ModuleList(\n",
              "      (0-5): 6 x GPT2Block(\n",
              "        (ln_1): LayerNorm((768,), eps=1e-05, elementwise_affine=True)\n",
              "        (attn): GPT2Attention(\n",
              "          (c_attn): Conv1D()\n",
              "          (c_proj): Conv1D()\n",
              "          (attn_dropout): Dropout(p=0.1, inplace=False)\n",
              "          (resid_dropout): Dropout(p=0.1, inplace=False)\n",
              "        )\n",
              "        (ln_2): LayerNorm((768,), eps=1e-05, elementwise_affine=True)\n",
              "        (mlp): GPT2MLP(\n",
              "          (c_fc): Conv1D()\n",
              "          (c_proj): Conv1D()\n",
              "          (act): NewGELUActivation()\n",
              "          (dropout): Dropout(p=0.1, inplace=False)\n",
              "        )\n",
              "      )\n",
              "    )\n",
              "    (ln_f): LayerNorm((768,), eps=1e-05, elementwise_affine=True)\n",
              "  )\n",
              "  (lm_head): Linear(in_features=768, out_features=50257, bias=False)\n",
              ")"
            ]
          },
          "metadata": {},
          "execution_count": 428
        }
      ]
    },
    {
      "cell_type": "code",
      "source": [
        "tf_outputs = tf_model(tf_batch)"
      ],
      "metadata": {
        "id": "_I-55qzAQ8zJ"
      },
      "execution_count": null,
      "outputs": []
    },
    {
      "cell_type": "code",
      "source": [
        "import tensorflow as tf\n",
        "\n",
        "tf_predictions = tf.nn.softmax(tf_outputs.logits, axis=-1)\n",
        "tf_predictions"
      ],
      "metadata": {
        "colab": {
          "base_uri": "https://localhost:8080/"
        },
        "id": "PfseV2Y1Svg0",
        "outputId": "a2c9856f-f889-4cef-90e2-9c13f6194132"
      },
      "execution_count": 430,
      "outputs": [
        {
          "output_type": "execute_result",
          "data": {
            "text/plain": [
              "<tf.Tensor: shape=(664, 5), dtype=float32, numpy=\n",
              "array([[0.31190208, 0.24365364, 0.28397802, 0.09360623, 0.06686002],\n",
              "       [0.22845687, 0.2432957 , 0.21902686, 0.14615645, 0.16306415],\n",
              "       [0.18278873, 0.21870628, 0.2716506 , 0.22623307, 0.10062134],\n",
              "       ...,\n",
              "       [0.1333641 , 0.33605626, 0.39709884, 0.11013652, 0.02334426],\n",
              "       [0.22455685, 0.24213885, 0.22342712, 0.14768587, 0.16219133],\n",
              "       [0.3833097 , 0.41140065, 0.16105199, 0.03199412, 0.01224353]],\n",
              "      dtype=float32)>"
            ]
          },
          "metadata": {},
          "execution_count": 430
        }
      ]
    },
    {
      "cell_type": "code",
      "source": [
        "tf_save_directory = \"/content/drive/MyDrive/Output/Model\"\n",
        "tokenizer.save_pretrained(tf_save_directory)\n",
        "tf_model.save_pretrained(tf_save_directory)"
      ],
      "metadata": {
        "id": "lQ6hIC9oS1_h"
      },
      "execution_count": 431,
      "outputs": []
    },
    {
      "cell_type": "code",
      "source": [
        "tf_model = AutoModelForCausalLM.from_pretrained(\"/content/drive/MyDrive/Output/Model\")"
      ],
      "metadata": {
        "id": "Pw0pDYLRTCR2"
      },
      "execution_count": 432,
      "outputs": []
    },
    {
      "cell_type": "code",
      "source": [
        "tokenizer = AutoTokenizer.from_pretrained(tf_save_directory)\n",
        "#model = AutoModelForCausalLM.from_pretrained('distilgpt2')"
      ],
      "metadata": {
        "colab": {
          "base_uri": "https://localhost:8080/"
        },
        "id": "pQVrczHJ3wxI",
        "outputId": "d7897a47-16be-4740-f894-8e282a717e46"
      },
      "execution_count": 433,
      "outputs": [
        {
          "output_type": "stream",
          "name": "stderr",
          "text": [
            "Special tokens have been added in the vocabulary, make sure the associated word embeddings are fine-tuned or trained.\n"
          ]
        }
      ]
    },
    {
      "cell_type": "code",
      "source": [
        "generator = pipeline('text-generation', model=tf_model, tokenizer=tokenizer)"
      ],
      "metadata": {
        "id": "COuuqx8XTdRR"
      },
      "execution_count": 434,
      "outputs": []
    },
    {
      "cell_type": "code",
      "source": [
        "import random"
      ],
      "metadata": {
        "id": "SHGV0Xiyq8zO"
      },
      "execution_count": 436,
      "outputs": []
    },
    {
      "cell_type": "code",
      "source": [
        "word = random.choice(my_interest_list)\n",
        "sentence = f'I love {word}'\n",
        "sentence"
      ],
      "metadata": {
        "colab": {
          "base_uri": "https://localhost:8080/",
          "height": 35
        },
        "id": "AAcyrPd3q_k0",
        "outputId": "cad333cf-8a3a-486f-9876-1ded327b1747"
      },
      "execution_count": 452,
      "outputs": [
        {
          "output_type": "execute_result",
          "data": {
            "text/plain": [
              "'I love British Shorthair'"
            ],
            "application/vnd.google.colaboratory.intrinsic+json": {
              "type": "string"
            }
          },
          "metadata": {},
          "execution_count": 452
        }
      ]
    },
    {
      "cell_type": "code",
      "source": [
        "generator(sentence)[0]['generated_text']"
      ],
      "metadata": {
        "colab": {
          "base_uri": "https://localhost:8080/",
          "height": 53
        },
        "id": "viimNQSfTfOO",
        "outputId": "ea4c660c-fb4e-44d5-804a-d4eb6facdf81"
      },
      "execution_count": 453,
      "outputs": [
        {
          "output_type": "stream",
          "name": "stderr",
          "text": [
            "Setting `pad_token_id` to `eos_token_id`:50256 for open-end generation.\n"
          ]
        },
        {
          "output_type": "execute_result",
          "data": {
            "text/plain": [
              "'I love British Shorthair.\"\\n\"We know he is coming, and what do we do. Why do we see him?\"'"
            ],
            "application/vnd.google.colaboratory.intrinsic+json": {
              "type": "string"
            }
          },
          "metadata": {},
          "execution_count": 453
        }
      ]
    },
    {
      "cell_type": "code",
      "source": [
        "def generateSentence(s):\n",
        "  word = random.choice(s)\n",
        "  sentence = f'I love {word}'\n",
        "  print(generator(sentence)[0]['generated_text'])\n",
        ""
      ],
      "metadata": {
        "id": "o0SKnQ8-rncf"
      },
      "execution_count": 460,
      "outputs": []
    },
    {
      "cell_type": "code",
      "source": [
        "generateSentence(my_interest_list)"
      ],
      "metadata": {
        "colab": {
          "base_uri": "https://localhost:8080/"
        },
        "id": "81ybbcvyrbC_",
        "outputId": "3d42eec9-0303-4bca-d0df-d10218594abc"
      },
      "execution_count": 483,
      "outputs": [
        {
          "output_type": "stream",
          "name": "stderr",
          "text": [
            "Setting `pad_token_id` to `eos_token_id`:50256 for open-end generation.\n"
          ]
        },
        {
          "output_type": "stream",
          "name": "stdout",
          "text": [
            "I love Child development...I hope you guys like this one too.\n",
            "And then we find out about the latest and greatest child development trends!\n"
          ]
        }
      ]
    },
    {
      "cell_type": "code",
      "source": [],
      "metadata": {
        "id": "bnzCHIBCsY9s"
      },
      "execution_count": 461,
      "outputs": []
    },
    {
      "cell_type": "code",
      "source": [],
      "metadata": {
        "id": "xcjaeyomv0Th"
      },
      "execution_count": null,
      "outputs": []
    }
  ]
}